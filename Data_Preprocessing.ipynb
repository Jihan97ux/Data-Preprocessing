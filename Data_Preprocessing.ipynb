{
 "cells": [
  {
   "cell_type": "code",
   "execution_count": 1,
   "id": "b4e82b74-7362-469e-ae99-7b03dd6d270b",
   "metadata": {},
   "outputs": [],
   "source": [
    "import pandas as pd\n",
    "import numpy as np\n",
    "import seaborn as sns\n",
    "import matplotlib.pyplot as plt"
   ]
  },
  {
   "cell_type": "code",
   "execution_count": 2,
   "id": "5365f6da-b3df-4806-b653-9a860df8482d",
   "metadata": {},
   "outputs": [
    {
     "data": {
      "text/html": [
       "<div>\n",
       "<style scoped>\n",
       "    .dataframe tbody tr th:only-of-type {\n",
       "        vertical-align: middle;\n",
       "    }\n",
       "\n",
       "    .dataframe tbody tr th {\n",
       "        vertical-align: top;\n",
       "    }\n",
       "\n",
       "    .dataframe thead th {\n",
       "        text-align: right;\n",
       "    }\n",
       "</style>\n",
       "<table border=\"1\" class=\"dataframe\">\n",
       "  <thead>\n",
       "    <tr style=\"text-align: right;\">\n",
       "      <th></th>\n",
       "      <th>bulan</th>\n",
       "      <th>titik_lokasi</th>\n",
       "      <th>kecamatan</th>\n",
       "      <th>wilayah</th>\n",
       "      <th>panjang/luas</th>\n",
       "      <th>satuan_panjang/luas</th>\n",
       "      <th>tanggal</th>\n",
       "      <th>volume_sampah_perhari(m3)</th>\n",
       "    </tr>\n",
       "  </thead>\n",
       "  <tbody>\n",
       "    <tr>\n",
       "      <th>0</th>\n",
       "      <td>1</td>\n",
       "      <td>Kali / Sungai Sentiong - Ruas Dewi Sri</td>\n",
       "      <td>Johar Baru</td>\n",
       "      <td>Jakarta Pusat</td>\n",
       "      <td>464</td>\n",
       "      <td>m</td>\n",
       "      <td>1</td>\n",
       "      <td>4</td>\n",
       "    </tr>\n",
       "    <tr>\n",
       "      <th>1</th>\n",
       "      <td>1</td>\n",
       "      <td>Kali / Sungai Sentiong - Ruas Abapon</td>\n",
       "      <td>Johar Baru</td>\n",
       "      <td>Jakarta Pusat</td>\n",
       "      <td>464</td>\n",
       "      <td>m</td>\n",
       "      <td>1</td>\n",
       "      <td>4</td>\n",
       "    </tr>\n",
       "    <tr>\n",
       "      <th>2</th>\n",
       "      <td>1</td>\n",
       "      <td>Kali / Sungai Sentiong - JL Tanah Tinggi</td>\n",
       "      <td>Johar Baru</td>\n",
       "      <td>Jakarta Pusat</td>\n",
       "      <td>464</td>\n",
       "      <td>m</td>\n",
       "      <td>1</td>\n",
       "      <td>4</td>\n",
       "    </tr>\n",
       "    <tr>\n",
       "      <th>3</th>\n",
       "      <td>1</td>\n",
       "      <td>Kali / Sungai Sentiong Jl.Galur - Pombensin</td>\n",
       "      <td>Johar Baru</td>\n",
       "      <td>Jakarta Pusat</td>\n",
       "      <td>606</td>\n",
       "      <td>m</td>\n",
       "      <td>1</td>\n",
       "      <td>4</td>\n",
       "    </tr>\n",
       "    <tr>\n",
       "      <th>4</th>\n",
       "      <td>1</td>\n",
       "      <td>Kali / Sungai Sentiong - Jl. Timah</td>\n",
       "      <td>Johar Baru</td>\n",
       "      <td>Jakarta Pusat</td>\n",
       "      <td>310</td>\n",
       "      <td>m</td>\n",
       "      <td>1</td>\n",
       "      <td>7</td>\n",
       "    </tr>\n",
       "  </tbody>\n",
       "</table>\n",
       "</div>"
      ],
      "text/plain": [
       "   bulan                                titik_lokasi   kecamatan   \\\n",
       "0      1       Kali / Sungai Sentiong - Ruas Dewi Sri  Johar Baru   \n",
       "1      1         Kali / Sungai Sentiong - Ruas Abapon  Johar Baru   \n",
       "2      1     Kali / Sungai Sentiong - JL Tanah Tinggi  Johar Baru   \n",
       "3      1  Kali / Sungai Sentiong Jl.Galur - Pombensin  Johar Baru   \n",
       "4      1           Kali / Sungai Sentiong - Jl. Timah  Johar Baru   \n",
       "\n",
       "        wilayah   panjang/luas  satuan_panjang/luas  tanggal  \\\n",
       "0  Jakarta Pusat            464                   m        1   \n",
       "1  Jakarta Pusat            464                   m        1   \n",
       "2  Jakarta Pusat            464                   m        1   \n",
       "3  Jakarta Pusat            606                   m        1   \n",
       "4  Jakarta Pusat            310                   m        1   \n",
       "\n",
       "  volume_sampah_perhari(m3)  \n",
       "0                         4  \n",
       "1                         4  \n",
       "2                         4  \n",
       "3                         4  \n",
       "4                         7  "
      ]
     },
     "execution_count": 2,
     "metadata": {},
     "output_type": "execute_result"
    }
   ],
   "source": [
    "df = pd.read_csv(\"volume_pengangkutan_sampah.csv\", sep=\";\")\n",
    "df.head()"
   ]
  },
  {
   "cell_type": "markdown",
   "id": "5e3aad53-f1dd-46af-9748-efc34779cae5",
   "metadata": {},
   "source": [
    "# Sanity Check of the Data\n"
   ]
  },
  {
   "cell_type": "code",
   "execution_count": 4,
   "id": "7bfcc1bb-c901-4889-b495-da36f6d4ca71",
   "metadata": {},
   "outputs": [
    {
     "name": "stdout",
     "output_type": "stream",
     "text": [
      "Index(['bulan', ' titik_lokasi ', ' kecamatan ', ' wilayah ', ' panjang/luas ',\n",
      "       'satuan_panjang/luas', 'tanggal', 'volume_sampah_perhari(m3)'],\n",
      "      dtype='object')\n"
     ]
    }
   ],
   "source": [
    "print(df.columns)"
   ]
  },
  {
   "cell_type": "code",
   "execution_count": 5,
   "id": "00e1166f-d07a-4077-b41a-88cce061900e",
   "metadata": {},
   "outputs": [],
   "source": [
    "#memperbaiki nama kolom\n",
    "df.columns = df.columns.str.replace(' ', '', regex=False)"
   ]
  },
  {
   "cell_type": "code",
   "execution_count": 6,
   "id": "1c210921-5757-483e-af2c-f16b1474e013",
   "metadata": {},
   "outputs": [
    {
     "name": "stdout",
     "output_type": "stream",
     "text": [
      "Index(['bulan', 'titik_lokasi', 'kecamatan', 'wilayah', 'panjang/luas',\n",
      "       'satuan_panjang/luas', 'tanggal', 'volume_sampah_perhari(m3)'],\n",
      "      dtype='object')\n"
     ]
    }
   ],
   "source": [
    "print(df.columns)"
   ]
  },
  {
   "cell_type": "code",
   "execution_count": 7,
   "id": "f0abb19e-ab1c-476d-adb4-abcc324d9041",
   "metadata": {},
   "outputs": [
    {
     "name": "stdout",
     "output_type": "stream",
     "text": [
      "<class 'pandas.core.frame.DataFrame'>\n",
      "RangeIndex: 54343 entries, 0 to 54342\n",
      "Data columns (total 8 columns):\n",
      " #   Column                     Non-Null Count  Dtype \n",
      "---  ------                     --------------  ----- \n",
      " 0   bulan                      54343 non-null  int64 \n",
      " 1   titik_lokasi               54343 non-null  object\n",
      " 2   kecamatan                  54343 non-null  object\n",
      " 3   wilayah                    54343 non-null  object\n",
      " 4   panjang/luas               53475 non-null  object\n",
      " 5   satuan_panjang/luas        32388 non-null  object\n",
      " 6   tanggal                    54343 non-null  int64 \n",
      " 7   volume_sampah_perhari(m3)  54343 non-null  object\n",
      "dtypes: int64(2), object(6)\n",
      "memory usage: 3.3+ MB\n"
     ]
    }
   ],
   "source": [
    "df.info()"
   ]
  },
  {
   "cell_type": "markdown",
   "id": "66495517-3c89-4276-a4c7-7b59c90f3ad1",
   "metadata": {},
   "source": [
    "#### Missing Value Identification"
   ]
  },
  {
   "cell_type": "code",
   "execution_count": 9,
   "id": "7ca9fbfa-00e8-4068-84bf-98a4e4de21a0",
   "metadata": {},
   "outputs": [
    {
     "name": "stdout",
     "output_type": "stream",
     "text": [
      "bulan                         0.000000\n",
      "titik_lokasi                  0.000000\n",
      "kecamatan                     0.000000\n",
      "wilayah                       0.000000\n",
      "panjang/luas                  1.597262\n",
      "satuan_panjang/luas          40.400788\n",
      "tanggal                       0.000000\n",
      "volume_sampah_perhari(m3)     0.000000\n",
      "dtype: float64\n"
     ]
    }
   ],
   "source": [
    "#mengidentifikasi persentase missing value\n",
    "missing_percentage = df.isnull().mean() * 100\n",
    "print(missing_percentage)"
   ]
  },
  {
   "cell_type": "code",
   "execution_count": 10,
   "id": "062e9609-6685-44e8-9add-b13d3b2b7cb0",
   "metadata": {},
   "outputs": [
    {
     "data": {
      "text/plain": [
       "<Axes: >"
      ]
     },
     "execution_count": 10,
     "metadata": {},
     "output_type": "execute_result"
    },
    {
     "data": {
      "image/png": "[encoded data removed]",
      "text/plain": [
       "<Figure size 640x480 with 1 Axes>"
      ]
     },
     "metadata": {},
     "output_type": "display_data"
    }
   ],
   "source": [
    "sns.heatmap(df.isnull(), yticklabels=False, cbar=False, cmap='viridis')"
   ]
  },
  {
   "cell_type": "markdown",
   "id": "b0074b3c-c6e4-41cf-8a6e-26a6280c4dcf",
   "metadata": {},
   "source": [
    "#### Noise Value Identification"
   ]
  },
  {
   "cell_type": "markdown",
   "id": "db267944-0543-40b1-bc4b-7060fffe61ff",
   "metadata": {},
   "source": [
    "##### 1. Mengidentifikasi noise value pada kolom panjang/luas"
   ]
  },
  {
   "cell_type": "code",
   "execution_count": 13,
   "id": "fe1039ce-7186-4d1f-8033-4d9c0c65497c",
   "metadata": {},
   "outputs": [
    {
     "name": "stdout",
     "output_type": "stream",
     "text": [
      "Nilai yang tidak dapat dikonversi menjadi float:\n",
      "nan\n",
      "3500/70\n",
      "1400/10\n",
      "1100/10\n",
      "1000/10\n",
      "700/10\n",
      "3000/15\n",
      "1000/7\n",
      "700/15\n",
      "1000/6\n",
      "700/6\n",
      "800/7\n",
      "1000/8\n",
      "Jun-00\n",
      "Oct-00\n",
      "1000/5\n",
      "2000/15\n",
      "May-00\n",
      "1000/4\n",
      "1500/10\n",
      "Apr-00\n",
      "700/8\n",
      "800/4\n",
      "1000/30\n",
      "700/5\n",
      "700/4\n",
      "700/3\n",
      "1000/3\n",
      "900/5\n",
      "500/6\n",
      "500/10\n",
      "300/3\n",
      "500/5\n",
      "3000/32\n",
      "1000/2\n",
      "200/17\n",
      "500/3\n",
      "500/4\n",
      "500/8\n",
      "600/3\n",
      "600/5\n",
      "2000/3.5\n",
      "800/3\n",
      "1500/35\n",
      "1300/35\n",
      "900/35\n",
      "1000/35\n",
      "900/10\n",
      "600/4\n",
      "1200/5\n",
      "1500/6\n",
      "1500/4\n",
      "450/6\n",
      "200/5\n",
      "350/3\n",
      "250/5\n",
      "400/3\n",
      "400/4\n",
      "600/6\n",
      "450/4\n",
      "800/2\n",
      "1500/3\n",
      "750/35\n",
      "751/35\n",
      "150/3\n",
      "150/5\n",
      "1800/35\n",
      "700/30\n",
      "1000/12\n",
      "250/6\n",
      "200/13\n",
      "800/6\n",
      "400/2.5\n",
      "500/1.5\n",
      "1500/1.5\n",
      "1000/1.5\n",
      "900/6.5\n",
      "900/9\n",
      "600/2\n",
      "600/1\n",
      "200/3\n",
      "50/20\n",
      "200/35\n",
      "900/3\n",
      "200/2.5\n",
      "May-50\n",
      "800/16\n",
      "150/2.5\n",
      "500/30\n",
      "750/20\n",
      "500/28\n",
      "800/28\n",
      "700/25\n",
      "500/25\n",
      "350/25\n",
      "800/20\n",
      "150/20\n",
      "650/20\n",
      "1500/20\n",
      "100/3.5\n",
      "100/25\n",
      "400/8\n",
      "600/2.5\n",
      "800/3.5\n",
      "300/4\n",
      "432/3.5\n",
      "100/2.5\n",
      "650/3.5\n",
      "500/3.5\n",
      "900/3.5\n",
      "435/4\n",
      "250/2.5\n",
      "750/5\n",
      "350/3.5\n",
      "300/8\n",
      "700/3.5\n",
      "450/3\n",
      "500/2.5\n",
      "600/20\n",
      "600/25\n",
      "600/3.5\n",
      "350/4\n",
      "2000/40\n",
      "1500/40\n",
      "1800/40\n",
      "1900/50\n",
      "1400/40\n",
      "1500/45\n",
      "800/15\n",
      "700/20\n",
      "1500/50\n",
      "900/20\n",
      "1000/50\n",
      "1000/15\n",
      "900/15\n",
      "1000/17\n",
      "1000/25\n",
      "2000/50\n",
      "800/30\n",
      "400/30\n",
      "700/1.5\n",
      "900/2.5\n",
      "700/2\n",
      "150/4\n",
      "700/2.5\n",
      "200/2\n",
      "900/4\n",
      "Apr-50\n",
      "100/4\n",
      "Apr-21\n",
      "800/25\n",
      "300/6\n",
      "400/15\n",
      "750/8\n",
      "1000/3.5\n",
      "100/5\n",
      "400/35\n",
      "700/40\n",
      "500/40\n",
      "400/40\n",
      "300/30\n",
      "500/20\n",
      "300/40\n",
      "1500/15\n",
      "2200/25\n",
      "300/20\n",
      "200/1\n",
      "400/2\n",
      "200/20\n",
      "250/2\n",
      "150/1\n",
      "300/1\n",
      "900/1\n",
      "400/1\n",
      "500/2\n",
      "300/2\n",
      "300/2.5\n",
      "800m\n",
      "500m\n",
      "600m\n",
      "400m\n",
      "1Ha\n",
      "-\n"
     ]
    }
   ],
   "source": [
    "#mengidentifikasi noise dan garbage value pada kolom panjang/luas\n",
    "df_check_pl = df['panjang/luas']\n",
    "df_check_pl_float = pd.to_numeric(df_check_pl, errors='coerce')\n",
    "invalid_values = df_check_pl[df_check_pl_float.isna()].unique()\n",
    "print(\"Nilai yang tidak dapat dikonversi menjadi float:\")\n",
    "for value in invalid_values:\n",
    "    print(value)"
   ]
  },
  {
   "cell_type": "code",
   "execution_count": 14,
   "id": "f2379780-e2e3-4991-b578-26e2bae741d0",
   "metadata": {},
   "outputs": [
    {
     "name": "stdout",
     "output_type": "stream",
     "text": [
      "0.6274957216200799\n"
     ]
    }
   ],
   "source": [
    "#presentase garbage value pada kolom panjang/luas dimana berupa - dan —\n",
    "df_cons_strip_pl = df[(df['panjang/luas'].str.contains('-', na=False))]\n",
    "percentage_cons_strip_pl = (len(df_cons_strip_pl)/len(df['panjang/luas']))*100\n",
    "print(percentage_cons_strip_pl)"
   ]
  },
  {
   "cell_type": "code",
   "execution_count": 15,
   "id": "8b20a2d8-7b39-450f-a91c-d986c0597dc8",
   "metadata": {},
   "outputs": [
    {
     "name": "stdout",
     "output_type": "stream",
     "text": [
      "0.513405590416429\n"
     ]
    }
   ],
   "source": [
    "#presentase garbage value dimana terdapat 'm' pada value di kolom panjang/luas\n",
    "df_cons_m = df[(df['panjang/luas'].str.contains('m', na=False))]\n",
    "percentage_df_cons_m = (len(df_cons_m)/len(df['panjang/luas']))*100\n",
    "print(percentage_df_cons_m)"
   ]
  },
  {
   "cell_type": "code",
   "execution_count": 16,
   "id": "227393da-29b7-47d8-8d42-83758c57b366",
   "metadata": {},
   "outputs": [
    {
     "name": "stdout",
     "output_type": "stream",
     "text": [
      "0.11409013120365087\n"
     ]
    }
   ],
   "source": [
    "#presentase garbage value dimana terdapat 'Ha' pada value di kolom panjang/luas\n",
    "df_cons_ha = df[(df['panjang/luas'].str.contains('Ha', na=False))]\n",
    "percentage_df_cons_ha = (len(df_cons_ha)/len(df['panjang/luas']))*100\n",
    "print(percentage_df_cons_ha)"
   ]
  },
  {
   "cell_type": "code",
   "execution_count": 17,
   "id": "2caf1b5f-5c18-4d35-8b74-68ebdc4f0a1f",
   "metadata": {},
   "outputs": [
    {
     "name": "stdout",
     "output_type": "stream",
     "text": [
      "21.620079863091842\n"
     ]
    }
   ],
   "source": [
    "#presentase value yang lebih dari satu pada kolom panjang/luas\n",
    "df_cons_slash_pl = df[(df['panjang/luas'].str.contains('/', na=False))]\n",
    "percentage_df_cons_slash_pl = (len(df_cons_slash_pl)/len(df['panjang/luas']))*100\n",
    "print(percentage_df_cons_slash_pl)"
   ]
  },
  {
   "cell_type": "markdown",
   "id": "32100a9d-1b4e-4587-9e4a-4181e0536ba7",
   "metadata": {},
   "source": [
    "##### 2. Mengidentifikasi noise value pada kolom lain yang tidak dicurigai terdapat noise value"
   ]
  },
  {
   "cell_type": "code",
   "execution_count": 19,
   "id": "d85d525a-8bdd-4938-82cd-9dd334a64e00",
   "metadata": {},
   "outputs": [
    {
     "name": "stdout",
     "output_type": "stream",
     "text": [
      "0.0\n"
     ]
    }
   ],
   "source": [
    "#mengidentifikasi garbage value dan value yang lebih dari satu pada kolom-kolom yang tidak dicurigai\n",
    "non_sus = df[\n",
    "    (df['titik_lokasi'] == '-') | \n",
    "    (df['kecamatan'] == '-') | \n",
    "    (df['wilayah'] == '-') | \n",
    "    (df['satuan_panjang/luas'] == '-') | \n",
    "    (df['titik_lokasi'] == '—') |\n",
    "    (df['kecamatan'] == '—') |\n",
    "    (df['wilayah'] == '—') |\n",
    "    (df['satuan_panjang/luas'] == '—')|\n",
    "    (df['titik_lokasi'] == '/')|\n",
    "    (df['kecamatan'].str.contains('/', na=False)) |\n",
    "    (df['wilayah'].str.contains('/', na=False)) |\n",
    "    (df['satuan_panjang/luas'].str.contains('/', na=False))\n",
    "    \n",
    "]\n",
    "percentage_non_sus = (len(non_sus)/len(df))*100\n",
    "print(percentage_non_sus)"
   ]
  },
  {
   "cell_type": "markdown",
   "id": "08f52404-4e8f-48cb-8065-c15b3f258e88",
   "metadata": {},
   "source": [
    "##### 3. Mengidentifikasi noise value pada volume_sampah_perhari(m3)"
   ]
  },
  {
   "cell_type": "code",
   "execution_count": 21,
   "id": "567a731c-b631-47a4-aa36-45e1848e0ef1",
   "metadata": {},
   "outputs": [
    {
     "name": "stdout",
     "output_type": "stream",
     "text": [
      "Nilai yang tidak dapat dikonversi menjadi float:\n",
      "-\n",
      " \n",
      "—\n",
      "O.5\n"
     ]
    }
   ],
   "source": [
    "#mengidentifikasi noise dan garbage value pada kolom panjang/luas\n",
    "df_check_vsp = df['volume_sampah_perhari(m3)']\n",
    "df_check_vsp_float = pd.to_numeric(df_check_vsp, errors='coerce')\n",
    "invalid_values = df_check_vsp[df_check_vsp_float.isna()].unique()\n",
    "print(\"Nilai yang tidak dapat dikonversi menjadi float:\")\n",
    "for value in invalid_values:\n",
    "    print(value)"
   ]
  },
  {
   "cell_type": "code",
   "execution_count": 22,
   "id": "7f0fa94d-02e5-4801-b347-d4f24b1e066a",
   "metadata": {},
   "outputs": [
    {
     "name": "stdout",
     "output_type": "stream",
     "text": [
      "32.56905213182931\n"
     ]
    }
   ],
   "source": [
    "#mengidentifikasi garbage value pada kolom volume_sampah_perhari(m3)\n",
    "df_cons_strip_vsp = df[\n",
    "    (df['volume_sampah_perhari(m3)'] == '-') | \n",
    "    (df['volume_sampah_perhari(m3)'] == '—')\n",
    "]\n",
    "percentage_df_cons_strip_vsp = (len(df_cons_strip_vsp)/len(df['volume_sampah_perhari(m3)']))*100\n",
    "print(percentage_df_cons_strip_vsp)"
   ]
  },
  {
   "cell_type": "code",
   "execution_count": 23,
   "id": "0721e951-9200-49b0-b77d-da0e505449ee",
   "metadata": {},
   "outputs": [
    {
     "name": "stdout",
     "output_type": "stream",
     "text": [
      "0.005520490219531495\n"
     ]
    }
   ],
   "source": [
    "#presentase garbage value dimana value berupa spasi (' ')\n",
    "df_cons_space = df[(df['volume_sampah_perhari(m3)'] == ' ')]\n",
    "percentage_df_cons_space = (len(df_cons_space)/len(df['panjang/luas']))*100\n",
    "print(percentage_df_cons_space)"
   ]
  },
  {
   "cell_type": "code",
   "execution_count": 24,
   "id": "4b898692-2f1d-42a1-abb5-de6ceec19a54",
   "metadata": {},
   "outputs": [
    {
     "name": "stdout",
     "output_type": "stream",
     "text": [
      "0.0018401634065104981\n"
     ]
    }
   ],
   "source": [
    "#presentase garbage value dimana value berupa O.5 dalam unidentified font\n",
    "df_cons_unidentified_font = df[(df['volume_sampah_perhari(m3)'] == 'O.5')]\n",
    "percentage_df_cons_unidentified_font = (len(df_cons_unidentified_font)/len(df['panjang/luas']))*100\n",
    "print(percentage_df_cons_unidentified_font)"
   ]
  },
  {
   "cell_type": "markdown",
   "id": "30df196f-ba9a-41ce-a2a5-6deb83bafb93",
   "metadata": {},
   "source": [
    "#### Duplicate Value Identification"
   ]
  },
  {
   "cell_type": "code",
   "execution_count": 26,
   "id": "39dc5f19-6366-42c3-b198-ada6bc12e34b",
   "metadata": {},
   "outputs": [
    {
     "name": "stdout",
     "output_type": "stream",
     "text": [
      "0.0\n"
     ]
    }
   ],
   "source": [
    "#mengidentifikasi persentase duplicated value\n",
    "duplicate_count = df.duplicated().sum()\n",
    "duplicate_percentage = (duplicate_count / len(df)) * 100\n",
    "print(duplicate_percentage)"
   ]
  },
  {
   "cell_type": "markdown",
   "id": "e3782a61-e7d6-4819-85e6-9187bd52a56f",
   "metadata": {},
   "source": [
    "# Exploratory Data Analysis"
   ]
  },
  {
   "cell_type": "code",
   "execution_count": 28,
   "id": "1c8b9d85-3bdd-4c28-87c1-40afb9e9ff6a",
   "metadata": {},
   "outputs": [
    {
     "data": {
      "text/html": [
       "<div>\n",
       "<style scoped>\n",
       "    .dataframe tbody tr th:only-of-type {\n",
       "        vertical-align: middle;\n",
       "    }\n",
       "\n",
       "    .dataframe tbody tr th {\n",
       "        vertical-align: top;\n",
       "    }\n",
       "\n",
       "    .dataframe thead th {\n",
       "        text-align: right;\n",
       "    }\n",
       "</style>\n",
       "<table border=\"1\" class=\"dataframe\">\n",
       "  <thead>\n",
       "    <tr style=\"text-align: right;\">\n",
       "      <th></th>\n",
       "      <th>count</th>\n",
       "      <th>mean</th>\n",
       "      <th>std</th>\n",
       "      <th>min</th>\n",
       "      <th>25%</th>\n",
       "      <th>50%</th>\n",
       "      <th>75%</th>\n",
       "      <th>max</th>\n",
       "    </tr>\n",
       "  </thead>\n",
       "  <tbody>\n",
       "    <tr>\n",
       "      <th>bulan</th>\n",
       "      <td>54343.0</td>\n",
       "      <td>1.0</td>\n",
       "      <td>0.000000</td>\n",
       "      <td>1.0</td>\n",
       "      <td>1.0</td>\n",
       "      <td>1.0</td>\n",
       "      <td>1.0</td>\n",
       "      <td>1.0</td>\n",
       "    </tr>\n",
       "    <tr>\n",
       "      <th>tanggal</th>\n",
       "      <td>54343.0</td>\n",
       "      <td>16.0</td>\n",
       "      <td>8.944354</td>\n",
       "      <td>1.0</td>\n",
       "      <td>8.0</td>\n",
       "      <td>16.0</td>\n",
       "      <td>24.0</td>\n",
       "      <td>31.0</td>\n",
       "    </tr>\n",
       "  </tbody>\n",
       "</table>\n",
       "</div>"
      ],
      "text/plain": [
       "           count  mean       std  min  25%   50%   75%   max\n",
       "bulan    54343.0   1.0  0.000000  1.0  1.0   1.0   1.0   1.0\n",
       "tanggal  54343.0  16.0  8.944354  1.0  8.0  16.0  24.0  31.0"
      ]
     },
     "execution_count": 28,
     "metadata": {},
     "output_type": "execute_result"
    }
   ],
   "source": [
    "df.describe().T"
   ]
  },
  {
   "cell_type": "code",
   "execution_count": 29,
   "id": "731bf816-1faf-4a08-b47e-be97e3179371",
   "metadata": {},
   "outputs": [
    {
     "data": {
      "text/html": [
       "<div>\n",
       "<style scoped>\n",
       "    .dataframe tbody tr th:only-of-type {\n",
       "        vertical-align: middle;\n",
       "    }\n",
       "\n",
       "    .dataframe tbody tr th {\n",
       "        vertical-align: top;\n",
       "    }\n",
       "\n",
       "    .dataframe thead th {\n",
       "        text-align: right;\n",
       "    }\n",
       "</style>\n",
       "<table border=\"1\" class=\"dataframe\">\n",
       "  <thead>\n",
       "    <tr style=\"text-align: right;\">\n",
       "      <th></th>\n",
       "      <th>titik_lokasi</th>\n",
       "      <th>kecamatan</th>\n",
       "      <th>wilayah</th>\n",
       "      <th>panjang/luas</th>\n",
       "      <th>satuan_panjang/luas</th>\n",
       "      <th>volume_sampah_perhari(m3)</th>\n",
       "    </tr>\n",
       "  </thead>\n",
       "  <tbody>\n",
       "    <tr>\n",
       "      <th>count</th>\n",
       "      <td>54343</td>\n",
       "      <td>54343</td>\n",
       "      <td>54343</td>\n",
       "      <td>53475</td>\n",
       "      <td>32388</td>\n",
       "      <td>54343</td>\n",
       "    </tr>\n",
       "    <tr>\n",
       "      <th>unique</th>\n",
       "      <td>1747</td>\n",
       "      <td>42</td>\n",
       "      <td>5</td>\n",
       "      <td>442</td>\n",
       "      <td>11</td>\n",
       "      <td>59</td>\n",
       "    </tr>\n",
       "    <tr>\n",
       "      <th>top</th>\n",
       "      <td>Saluran PHB Asem</td>\n",
       "      <td>Kalideres</td>\n",
       "      <td>Jakarta Barat</td>\n",
       "      <td>1000</td>\n",
       "      <td>m</td>\n",
       "      <td>-</td>\n",
       "    </tr>\n",
       "    <tr>\n",
       "      <th>freq</th>\n",
       "      <td>62</td>\n",
       "      <td>2914</td>\n",
       "      <td>16430</td>\n",
       "      <td>6512</td>\n",
       "      <td>29884</td>\n",
       "      <td>15649</td>\n",
       "    </tr>\n",
       "  </tbody>\n",
       "</table>\n",
       "</div>"
      ],
      "text/plain": [
       "            titik_lokasi  kecamatan        wilayah panjang/luas  \\\n",
       "count              54343      54343          54343        53475   \n",
       "unique              1747         42              5          442   \n",
       "top     Saluran PHB Asem  Kalideres  Jakarta Barat         1000   \n",
       "freq                  62       2914          16430         6512   \n",
       "\n",
       "       satuan_panjang/luas volume_sampah_perhari(m3)  \n",
       "count                32388                     54343  \n",
       "unique                  11                        59  \n",
       "top                      m                         -  \n",
       "freq                 29884                     15649  "
      ]
     },
     "execution_count": 29,
     "metadata": {},
     "output_type": "execute_result"
    }
   ],
   "source": [
    "df.describe(include=\"object\")"
   ]
  },
  {
   "cell_type": "markdown",
   "id": "0ab7e915-1537-4f93-b22a-73020126523d",
   "metadata": {},
   "source": [
    "#### panjang/luas Column Exploration"
   ]
  },
  {
   "cell_type": "markdown",
   "id": "8a776ab6-5d9f-4f97-9766-b7c8e7d989b6",
   "metadata": {},
   "source": [
    "##### 1. Mengekplorasi missing value"
   ]
  },
  {
   "cell_type": "code",
   "execution_count": 32,
   "id": "82865426-e154-4b30-810e-f1b32bdf16c7",
   "metadata": {},
   "outputs": [
    {
     "data": {
      "text/html": [
       "<div>\n",
       "<style scoped>\n",
       "    .dataframe tbody tr th:only-of-type {\n",
       "        vertical-align: middle;\n",
       "    }\n",
       "\n",
       "    .dataframe tbody tr th {\n",
       "        vertical-align: top;\n",
       "    }\n",
       "\n",
       "    .dataframe thead th {\n",
       "        text-align: right;\n",
       "    }\n",
       "</style>\n",
       "<table border=\"1\" class=\"dataframe\">\n",
       "  <thead>\n",
       "    <tr style=\"text-align: right;\">\n",
       "      <th></th>\n",
       "      <th>bulan</th>\n",
       "      <th>titik_lokasi</th>\n",
       "      <th>kecamatan</th>\n",
       "      <th>wilayah</th>\n",
       "      <th>panjang/luas</th>\n",
       "      <th>satuan_panjang/luas</th>\n",
       "      <th>tanggal</th>\n",
       "      <th>volume_sampah_perhari(m3)</th>\n",
       "    </tr>\n",
       "  </thead>\n",
       "  <tbody>\n",
       "    <tr>\n",
       "      <th>71</th>\n",
       "      <td>1</td>\n",
       "      <td>Saringan P2SC. UPK BADAN AIR</td>\n",
       "      <td>Kemayoran</td>\n",
       "      <td>Jakarta Pusat</td>\n",
       "      <td>NaN</td>\n",
       "      <td>NaN</td>\n",
       "      <td>1</td>\n",
       "      <td>2</td>\n",
       "    </tr>\n",
       "    <tr>\n",
       "      <th>87</th>\n",
       "      <td>1</td>\n",
       "      <td>Saringan Sumenep. UPK BADAN AIR</td>\n",
       "      <td>Menteng</td>\n",
       "      <td>Jakarta Pusat</td>\n",
       "      <td>NaN</td>\n",
       "      <td>NaN</td>\n",
       "      <td>1</td>\n",
       "      <td>1</td>\n",
       "    </tr>\n",
       "    <tr>\n",
       "      <th>280</th>\n",
       "      <td>1</td>\n",
       "      <td>Saringan Sampah Pulomas</td>\n",
       "      <td>Kelapa Gading</td>\n",
       "      <td>Jakarta Utara</td>\n",
       "      <td>NaN</td>\n",
       "      <td>NaN</td>\n",
       "      <td>1</td>\n",
       "      <td>12</td>\n",
       "    </tr>\n",
       "    <tr>\n",
       "      <th>281</th>\n",
       "      <td>1</td>\n",
       "      <td>Saringan Sampah IKIP</td>\n",
       "      <td>Kelapa Gading</td>\n",
       "      <td>Jakarta Utara</td>\n",
       "      <td>NaN</td>\n",
       "      <td>NaN</td>\n",
       "      <td>1</td>\n",
       "      <td>0</td>\n",
       "    </tr>\n",
       "    <tr>\n",
       "      <th>323</th>\n",
       "      <td>1</td>\n",
       "      <td>Saringan Sampah Pasar Uler</td>\n",
       "      <td>Koja</td>\n",
       "      <td>Jakarta Utara</td>\n",
       "      <td>NaN</td>\n",
       "      <td>NaN</td>\n",
       "      <td>1</td>\n",
       "      <td>1</td>\n",
       "    </tr>\n",
       "  </tbody>\n",
       "</table>\n",
       "</div>"
      ],
      "text/plain": [
       "     bulan                     titik_lokasi      kecamatan        wilayah  \\\n",
       "71       1     Saringan P2SC. UPK BADAN AIR      Kemayoran  Jakarta Pusat   \n",
       "87       1  Saringan Sumenep. UPK BADAN AIR        Menteng  Jakarta Pusat   \n",
       "280      1          Saringan Sampah Pulomas  Kelapa Gading  Jakarta Utara   \n",
       "281      1             Saringan Sampah IKIP  Kelapa Gading  Jakarta Utara   \n",
       "323      1       Saringan Sampah Pasar Uler           Koja  Jakarta Utara   \n",
       "\n",
       "    panjang/luas satuan_panjang/luas  tanggal volume_sampah_perhari(m3)  \n",
       "71           NaN                 NaN        1                         2  \n",
       "87           NaN                 NaN        1                         1  \n",
       "280          NaN                 NaN        1                        12  \n",
       "281          NaN                 NaN        1                         0  \n",
       "323          NaN                 NaN        1                         1  "
      ]
     },
     "execution_count": 32,
     "metadata": {},
     "output_type": "execute_result"
    }
   ],
   "source": [
    "#melihat missing value pada  panjang/luas\n",
    "df[df['panjang/luas'].isnull()].head()"
   ]
  },
  {
   "cell_type": "code",
   "execution_count": 33,
   "id": "9e0a113b-a4a0-4462-a431-601d6835781c",
   "metadata": {},
   "outputs": [
    {
     "data": {
      "text/html": [
       "<div>\n",
       "<style scoped>\n",
       "    .dataframe tbody tr th:only-of-type {\n",
       "        vertical-align: middle;\n",
       "    }\n",
       "\n",
       "    .dataframe tbody tr th {\n",
       "        vertical-align: top;\n",
       "    }\n",
       "\n",
       "    .dataframe thead th {\n",
       "        text-align: right;\n",
       "    }\n",
       "</style>\n",
       "<table border=\"1\" class=\"dataframe\">\n",
       "  <thead>\n",
       "    <tr style=\"text-align: right;\">\n",
       "      <th></th>\n",
       "      <th>titik_lokasi</th>\n",
       "      <th>kecamatan</th>\n",
       "      <th>wilayah</th>\n",
       "      <th>satuan_panjang/luas</th>\n",
       "    </tr>\n",
       "  </thead>\n",
       "  <tbody>\n",
       "    <tr>\n",
       "      <th>71</th>\n",
       "      <td>Saringan P2SC. UPK BADAN AIR</td>\n",
       "      <td>Kemayoran</td>\n",
       "      <td>Jakarta Pusat</td>\n",
       "      <td>NaN</td>\n",
       "    </tr>\n",
       "    <tr>\n",
       "      <th>87</th>\n",
       "      <td>Saringan Sumenep. UPK BADAN AIR</td>\n",
       "      <td>Menteng</td>\n",
       "      <td>Jakarta Pusat</td>\n",
       "      <td>NaN</td>\n",
       "    </tr>\n",
       "    <tr>\n",
       "      <th>280</th>\n",
       "      <td>Saringan Sampah Pulomas</td>\n",
       "      <td>Kelapa Gading</td>\n",
       "      <td>Jakarta Utara</td>\n",
       "      <td>NaN</td>\n",
       "    </tr>\n",
       "    <tr>\n",
       "      <th>281</th>\n",
       "      <td>Saringan Sampah IKIP</td>\n",
       "      <td>Kelapa Gading</td>\n",
       "      <td>Jakarta Utara</td>\n",
       "      <td>NaN</td>\n",
       "    </tr>\n",
       "    <tr>\n",
       "      <th>323</th>\n",
       "      <td>Saringan Sampah Pasar Uler</td>\n",
       "      <td>Koja</td>\n",
       "      <td>Jakarta Utara</td>\n",
       "      <td>NaN</td>\n",
       "    </tr>\n",
       "    <tr>\n",
       "      <th>324</th>\n",
       "      <td>Saringan Sampah Kresek</td>\n",
       "      <td>Koja</td>\n",
       "      <td>Jakarta Utara</td>\n",
       "      <td>NaN</td>\n",
       "    </tr>\n",
       "    <tr>\n",
       "      <th>325</th>\n",
       "      <td>Saringan Sampah Layar</td>\n",
       "      <td>Koja</td>\n",
       "      <td>Jakarta Utara</td>\n",
       "      <td>NaN</td>\n",
       "    </tr>\n",
       "    <tr>\n",
       "      <th>326</th>\n",
       "      <td>Saringan Sampah Bendungan Melayu</td>\n",
       "      <td>Koja</td>\n",
       "      <td>Jakarta Utara</td>\n",
       "      <td>NaN</td>\n",
       "    </tr>\n",
       "    <tr>\n",
       "      <th>418</th>\n",
       "      <td>Saringan Sampah Lagoa Tirem</td>\n",
       "      <td>Tanjung Priok</td>\n",
       "      <td>Jakarta Utara</td>\n",
       "      <td>NaN</td>\n",
       "    </tr>\n",
       "    <tr>\n",
       "      <th>419</th>\n",
       "      <td>Saringan Sampah Waduk Sunter Selatan</td>\n",
       "      <td>Tanjung Priok</td>\n",
       "      <td>Jakarta Utara</td>\n",
       "      <td>NaN</td>\n",
       "    </tr>\n",
       "    <tr>\n",
       "      <th>420</th>\n",
       "      <td>Saringan Sampah Sentiong</td>\n",
       "      <td>Tanjung Priok</td>\n",
       "      <td>Jakarta Utara</td>\n",
       "      <td>NaN</td>\n",
       "    </tr>\n",
       "    <tr>\n",
       "      <th>507</th>\n",
       "      <td>Saringan Sampah Teluk Gong</td>\n",
       "      <td>Penjaringan</td>\n",
       "      <td>Jakarta Utara</td>\n",
       "      <td>NaN</td>\n",
       "    </tr>\n",
       "    <tr>\n",
       "      <th>508</th>\n",
       "      <td>Saringan Sampah Spill Way Pluit</td>\n",
       "      <td>Penjaringan</td>\n",
       "      <td>Jakarta Utara</td>\n",
       "      <td>NaN</td>\n",
       "    </tr>\n",
       "    <tr>\n",
       "      <th>509</th>\n",
       "      <td>Saringan Sampah Muara Baru</td>\n",
       "      <td>Penjaringan</td>\n",
       "      <td>Jakarta Utara</td>\n",
       "      <td>NaN</td>\n",
       "    </tr>\n",
       "    <tr>\n",
       "      <th>642</th>\n",
       "      <td>Saringan Sampah. Cengkareng Drain</td>\n",
       "      <td>Kembangan</td>\n",
       "      <td>Jakarta Barat</td>\n",
       "      <td>NaN</td>\n",
       "    </tr>\n",
       "    <tr>\n",
       "      <th>686</th>\n",
       "      <td>Saringan Sampah. PHB Jatipulo</td>\n",
       "      <td>Palmerah</td>\n",
       "      <td>Jakarta Barat</td>\n",
       "      <td>NaN</td>\n",
       "    </tr>\n",
       "    <tr>\n",
       "      <th>687</th>\n",
       "      <td>Saringan Sampah. Saringan Golkar</td>\n",
       "      <td>Palmerah</td>\n",
       "      <td>Jakarta Barat</td>\n",
       "      <td>NaN</td>\n",
       "    </tr>\n",
       "    <tr>\n",
       "      <th>862</th>\n",
       "      <td>Saringan Sampah. Saringan Sekretaris</td>\n",
       "      <td>Grogol Petamburan</td>\n",
       "      <td>Jakarta Barat</td>\n",
       "      <td>NaN</td>\n",
       "    </tr>\n",
       "    <tr>\n",
       "      <th>863</th>\n",
       "      <td>Saringan Sampah. Saringan Pesing</td>\n",
       "      <td>Grogol Petamburan</td>\n",
       "      <td>Jakarta Barat</td>\n",
       "      <td>NaN</td>\n",
       "    </tr>\n",
       "    <tr>\n",
       "      <th>1020</th>\n",
       "      <td>Saringan Sampah. Saringan Mookervaart</td>\n",
       "      <td>Kalideres</td>\n",
       "      <td>Jakarta Barat</td>\n",
       "      <td>NaN</td>\n",
       "    </tr>\n",
       "    <tr>\n",
       "      <th>1138</th>\n",
       "      <td>Saringan Simatupang UPK Badan Air</td>\n",
       "      <td>Jagakarsa</td>\n",
       "      <td>Jakarta Selatan</td>\n",
       "      <td>NaN</td>\n",
       "    </tr>\n",
       "    <tr>\n",
       "      <th>1241</th>\n",
       "      <td>Saringan Setiabudi Timur</td>\n",
       "      <td>Setiabudi</td>\n",
       "      <td>Jakarta Selatan</td>\n",
       "      <td>NaN</td>\n",
       "    </tr>\n",
       "    <tr>\n",
       "      <th>1242</th>\n",
       "      <td>Saringan Setiabudi Barat</td>\n",
       "      <td>Setiabudi</td>\n",
       "      <td>Jakarta Selatan</td>\n",
       "      <td>NaN</td>\n",
       "    </tr>\n",
       "    <tr>\n",
       "      <th>1345</th>\n",
       "      <td>Saringan Palmerah</td>\n",
       "      <td>Kebayoran Lama</td>\n",
       "      <td>Jakarta Selatan</td>\n",
       "      <td>NaN</td>\n",
       "    </tr>\n",
       "    <tr>\n",
       "      <th>1517</th>\n",
       "      <td>Saringan Meh Hek UPK Badan Air</td>\n",
       "      <td>Kramat Jati</td>\n",
       "      <td>Jakarta Timur</td>\n",
       "      <td>NaN</td>\n",
       "    </tr>\n",
       "    <tr>\n",
       "      <th>1518</th>\n",
       "      <td>Saringan Meh Cawang UPK Badan Air</td>\n",
       "      <td>Kramat Jati</td>\n",
       "      <td>Jakarta Timur</td>\n",
       "      <td>NaN</td>\n",
       "    </tr>\n",
       "    <tr>\n",
       "      <th>1519</th>\n",
       "      <td>Saringan Jagorawi UPK Badan Air</td>\n",
       "      <td>Kramat Jati</td>\n",
       "      <td>Jakarta Timur</td>\n",
       "      <td>NaN</td>\n",
       "    </tr>\n",
       "    <tr>\n",
       "      <th>1520</th>\n",
       "      <td>Saringan Meh PGC UPK Badan Air</td>\n",
       "      <td>Kramat Jati</td>\n",
       "      <td>Jakarta Timur</td>\n",
       "      <td>NaN</td>\n",
       "    </tr>\n",
       "  </tbody>\n",
       "</table>\n",
       "</div>"
      ],
      "text/plain": [
       "                               titik_lokasi          kecamatan  \\\n",
       "71             Saringan P2SC. UPK BADAN AIR          Kemayoran   \n",
       "87          Saringan Sumenep. UPK BADAN AIR            Menteng   \n",
       "280                 Saringan Sampah Pulomas      Kelapa Gading   \n",
       "281                    Saringan Sampah IKIP      Kelapa Gading   \n",
       "323              Saringan Sampah Pasar Uler               Koja   \n",
       "324                  Saringan Sampah Kresek               Koja   \n",
       "325                   Saringan Sampah Layar               Koja   \n",
       "326        Saringan Sampah Bendungan Melayu               Koja   \n",
       "418             Saringan Sampah Lagoa Tirem      Tanjung Priok   \n",
       "419    Saringan Sampah Waduk Sunter Selatan      Tanjung Priok   \n",
       "420                Saringan Sampah Sentiong      Tanjung Priok   \n",
       "507              Saringan Sampah Teluk Gong        Penjaringan   \n",
       "508         Saringan Sampah Spill Way Pluit        Penjaringan   \n",
       "509              Saringan Sampah Muara Baru        Penjaringan   \n",
       "642       Saringan Sampah. Cengkareng Drain          Kembangan   \n",
       "686           Saringan Sampah. PHB Jatipulo           Palmerah   \n",
       "687        Saringan Sampah. Saringan Golkar           Palmerah   \n",
       "862    Saringan Sampah. Saringan Sekretaris  Grogol Petamburan   \n",
       "863        Saringan Sampah. Saringan Pesing  Grogol Petamburan   \n",
       "1020  Saringan Sampah. Saringan Mookervaart          Kalideres   \n",
       "1138      Saringan Simatupang UPK Badan Air          Jagakarsa   \n",
       "1241               Saringan Setiabudi Timur          Setiabudi   \n",
       "1242               Saringan Setiabudi Barat          Setiabudi   \n",
       "1345                      Saringan Palmerah     Kebayoran Lama   \n",
       "1517         Saringan Meh Hek UPK Badan Air        Kramat Jati   \n",
       "1518      Saringan Meh Cawang UPK Badan Air        Kramat Jati   \n",
       "1519        Saringan Jagorawi UPK Badan Air        Kramat Jati   \n",
       "1520         Saringan Meh PGC UPK Badan Air        Kramat Jati   \n",
       "\n",
       "              wilayah satuan_panjang/luas  \n",
       "71      Jakarta Pusat                 NaN  \n",
       "87      Jakarta Pusat                 NaN  \n",
       "280     Jakarta Utara                 NaN  \n",
       "281     Jakarta Utara                 NaN  \n",
       "323     Jakarta Utara                 NaN  \n",
       "324     Jakarta Utara                 NaN  \n",
       "325     Jakarta Utara                 NaN  \n",
       "326     Jakarta Utara                 NaN  \n",
       "418     Jakarta Utara                 NaN  \n",
       "419     Jakarta Utara                 NaN  \n",
       "420     Jakarta Utara                 NaN  \n",
       "507     Jakarta Utara                 NaN  \n",
       "508     Jakarta Utara                 NaN  \n",
       "509     Jakarta Utara                 NaN  \n",
       "642     Jakarta Barat                 NaN  \n",
       "686     Jakarta Barat                 NaN  \n",
       "687     Jakarta Barat                 NaN  \n",
       "862     Jakarta Barat                 NaN  \n",
       "863     Jakarta Barat                 NaN  \n",
       "1020    Jakarta Barat                 NaN  \n",
       "1138  Jakarta Selatan                 NaN  \n",
       "1241  Jakarta Selatan                 NaN  \n",
       "1242  Jakarta Selatan                 NaN  \n",
       "1345  Jakarta Selatan                 NaN  \n",
       "1517    Jakarta Timur                 NaN  \n",
       "1518    Jakarta Timur                 NaN  \n",
       "1519    Jakarta Timur                 NaN  \n",
       "1520    Jakarta Timur                 NaN  "
      ]
     },
     "execution_count": 33,
     "metadata": {},
     "output_type": "execute_result"
    }
   ],
   "source": [
    "#melihat lokasi yang terdapat missing value pada  panjang/luas\n",
    "null_lokasi = df[df['panjang/luas'].isna()][['titik_lokasi', 'kecamatan', 'wilayah', 'satuan_panjang/luas']].drop_duplicates()\n",
    "null_lokasi.head(28)"
   ]
  },
  {
   "cell_type": "markdown",
   "id": "a74796c7-f1fe-4e13-849e-beb85bf85bbb",
   "metadata": {},
   "source": [
    "##### 2. Mengekplorasi garbage value"
   ]
  },
  {
   "cell_type": "code",
   "execution_count": 35,
   "id": "c37d5998-fe18-4b37-b1f6-0ca8d45eebe5",
   "metadata": {},
   "outputs": [
    {
     "data": {
      "text/html": [
       "<div>\n",
       "<style scoped>\n",
       "    .dataframe tbody tr th:only-of-type {\n",
       "        vertical-align: middle;\n",
       "    }\n",
       "\n",
       "    .dataframe tbody tr th {\n",
       "        vertical-align: top;\n",
       "    }\n",
       "\n",
       "    .dataframe thead th {\n",
       "        text-align: right;\n",
       "    }\n",
       "</style>\n",
       "<table border=\"1\" class=\"dataframe\">\n",
       "  <thead>\n",
       "    <tr style=\"text-align: right;\">\n",
       "      <th></th>\n",
       "      <th>bulan</th>\n",
       "      <th>titik_lokasi</th>\n",
       "      <th>kecamatan</th>\n",
       "      <th>wilayah</th>\n",
       "      <th>panjang/luas</th>\n",
       "      <th>satuan_panjang/luas</th>\n",
       "      <th>tanggal</th>\n",
       "      <th>volume_sampah_perhari(m3)</th>\n",
       "    </tr>\n",
       "  </thead>\n",
       "  <tbody>\n",
       "    <tr>\n",
       "      <th>170</th>\n",
       "      <td>1</td>\n",
       "      <td>PHB Tanah Merdeka</td>\n",
       "      <td>Cilincing</td>\n",
       "      <td>Jakarta Utara</td>\n",
       "      <td>Jun-00</td>\n",
       "      <td>NaN</td>\n",
       "      <td>1</td>\n",
       "      <td>0</td>\n",
       "    </tr>\n",
       "    <tr>\n",
       "      <th>171</th>\n",
       "      <td>1</td>\n",
       "      <td>PHB Gang Sate</td>\n",
       "      <td>Cilincing</td>\n",
       "      <td>Jakarta Utara</td>\n",
       "      <td>Oct-00</td>\n",
       "      <td>NaN</td>\n",
       "      <td>1</td>\n",
       "      <td>0</td>\n",
       "    </tr>\n",
       "    <tr>\n",
       "      <th>174</th>\n",
       "      <td>1</td>\n",
       "      <td>PHB Pos 5</td>\n",
       "      <td>Cilincing</td>\n",
       "      <td>Jakarta Utara</td>\n",
       "      <td>May-00</td>\n",
       "      <td>NaN</td>\n",
       "      <td>1</td>\n",
       "      <td>0</td>\n",
       "    </tr>\n",
       "    <tr>\n",
       "      <th>186</th>\n",
       "      <td>1</td>\n",
       "      <td>PHB Pintu Dua Pegangsaan Kel. Sukapura</td>\n",
       "      <td>Cilincing</td>\n",
       "      <td>Jakarta Utara</td>\n",
       "      <td>Apr-00</td>\n",
       "      <td>NaN</td>\n",
       "      <td>1</td>\n",
       "      <td>0</td>\n",
       "    </tr>\n",
       "    <tr>\n",
       "      <th>318</th>\n",
       "      <td>1</td>\n",
       "      <td>Inlet 1 Waduk Rawa Badak</td>\n",
       "      <td>Koja</td>\n",
       "      <td>Jakarta Utara</td>\n",
       "      <td>May-50</td>\n",
       "      <td>NaN</td>\n",
       "      <td>1</td>\n",
       "      <td>6</td>\n",
       "    </tr>\n",
       "  </tbody>\n",
       "</table>\n",
       "</div>"
      ],
      "text/plain": [
       "     bulan                            titik_lokasi  kecamatan        wilayah  \\\n",
       "170      1                       PHB Tanah Merdeka  Cilincing  Jakarta Utara   \n",
       "171      1                           PHB Gang Sate  Cilincing  Jakarta Utara   \n",
       "174      1                               PHB Pos 5  Cilincing  Jakarta Utara   \n",
       "186      1  PHB Pintu Dua Pegangsaan Kel. Sukapura  Cilincing  Jakarta Utara   \n",
       "318      1                Inlet 1 Waduk Rawa Badak       Koja  Jakarta Utara   \n",
       "\n",
       "    panjang/luas satuan_panjang/luas  tanggal volume_sampah_perhari(m3)  \n",
       "170       Jun-00                 NaN        1                         0  \n",
       "171       Oct-00                 NaN        1                         0  \n",
       "174       May-00                 NaN        1                         0  \n",
       "186       Apr-00                 NaN        1                         0  \n",
       "318       May-50                 NaN        1                         6  "
      ]
     },
     "execution_count": 35,
     "metadata": {},
     "output_type": "execute_result"
    }
   ],
   "source": [
    "#menampilkan semua baris dimana terdapat garbage value pada kolom panjang/luas\n",
    "df_cons_strip_pl.head()"
   ]
  },
  {
   "cell_type": "code",
   "execution_count": 36,
   "id": "5257950d-423a-4c9e-84d2-1c55cc9c82ab",
   "metadata": {},
   "outputs": [
    {
     "data": {
      "text/plain": [
       "<Axes: xlabel='panjang/luas', ylabel='Count'>"
      ]
     },
     "execution_count": 36,
     "metadata": {},
     "output_type": "execute_result"
    },
    {
     "data": {
      "image/png": "[encoded data removed]",
      "text/plain": [
       "<Figure size 640x480 with 1 Axes>"
      ]
     },
     "metadata": {},
     "output_type": "display_data"
    }
   ],
   "source": [
    "#melihat persebaran garbage value panjang/luas\n",
    "sns.histplot(df_cons_strip_pl['panjang/luas'])"
   ]
  },
  {
   "cell_type": "code",
   "execution_count": 68,
   "id": "97c678ee-8012-4745-ac6a-fa444993495a",
   "metadata": {},
   "outputs": [
    {
     "data": {
      "image/png": "[encoded data removed]",
      "text/plain": [
       "<Figure size 640x480 with 1 Axes>"
      ]
     },
     "metadata": {},
     "output_type": "display_data"
    }
   ],
   "source": [
    "#melihat persebaran titik_lokasi terhadap garbage value panjang/luas\n",
    "sns.violinplot(data=df_cons_strip_pl, x='titik_lokasi', hue='panjang/luas', split=True)\n",
    "plt.xticks(rotation=90)\n",
    "plt.show()"
   ]
  },
  {
   "cell_type": "markdown",
   "id": "d6d6ee60-cb9b-4492-acb6-47331b4545ed",
   "metadata": {},
   "source": [
    "##### 3. Mengekplorasi noise value"
   ]
  },
  {
   "cell_type": "code",
   "execution_count": 41,
   "id": "3d6fcda0-8a0e-4a7a-9708-91889124bda8",
   "metadata": {
    "scrolled": true
   },
   "outputs": [
    {
     "data": {
      "text/html": [
       "<div>\n",
       "<style scoped>\n",
       "    .dataframe tbody tr th:only-of-type {\n",
       "        vertical-align: middle;\n",
       "    }\n",
       "\n",
       "    .dataframe tbody tr th {\n",
       "        vertical-align: top;\n",
       "    }\n",
       "\n",
       "    .dataframe thead th {\n",
       "        text-align: right;\n",
       "    }\n",
       "</style>\n",
       "<table border=\"1\" class=\"dataframe\">\n",
       "  <thead>\n",
       "    <tr style=\"text-align: right;\">\n",
       "      <th></th>\n",
       "      <th>bulan</th>\n",
       "      <th>titik_lokasi</th>\n",
       "      <th>kecamatan</th>\n",
       "      <th>wilayah</th>\n",
       "      <th>panjang/luas</th>\n",
       "      <th>satuan_panjang/luas</th>\n",
       "      <th>tanggal</th>\n",
       "      <th>volume_sampah_perhari(m3)</th>\n",
       "    </tr>\n",
       "  </thead>\n",
       "  <tbody>\n",
       "    <tr>\n",
       "      <th>152</th>\n",
       "      <td>1</td>\n",
       "      <td>Kali BKT Marunda Pintu Air Sekatan 1</td>\n",
       "      <td>Cilincing</td>\n",
       "      <td>Jakarta Utara</td>\n",
       "      <td>3500/70</td>\n",
       "      <td>NaN</td>\n",
       "      <td>1</td>\n",
       "      <td>6</td>\n",
       "    </tr>\n",
       "    <tr>\n",
       "      <th>153</th>\n",
       "      <td>1</td>\n",
       "      <td>Kali BKT Marunda Pintu Air Sekatan 2</td>\n",
       "      <td>Cilincing</td>\n",
       "      <td>Jakarta Utara</td>\n",
       "      <td>1400/10</td>\n",
       "      <td>NaN</td>\n",
       "      <td>1</td>\n",
       "      <td>6</td>\n",
       "    </tr>\n",
       "    <tr>\n",
       "      <th>154</th>\n",
       "      <td>1</td>\n",
       "      <td>Kali Cakung Drain Sekatan 1</td>\n",
       "      <td>Cilincing</td>\n",
       "      <td>Jakarta Utara</td>\n",
       "      <td>1100/10</td>\n",
       "      <td>NaN</td>\n",
       "      <td>1</td>\n",
       "      <td>0</td>\n",
       "    </tr>\n",
       "    <tr>\n",
       "      <th>155</th>\n",
       "      <td>1</td>\n",
       "      <td>Kali Cakung Drain Sekatan 2</td>\n",
       "      <td>Cilincing</td>\n",
       "      <td>Jakarta Utara</td>\n",
       "      <td>1000/10</td>\n",
       "      <td>NaN</td>\n",
       "      <td>1</td>\n",
       "      <td>0</td>\n",
       "    </tr>\n",
       "    <tr>\n",
       "      <th>156</th>\n",
       "      <td>1</td>\n",
       "      <td>Kali Muara Cakung Drain</td>\n",
       "      <td>Cilincing</td>\n",
       "      <td>Jakarta Utara</td>\n",
       "      <td>1000/10</td>\n",
       "      <td>NaN</td>\n",
       "      <td>1</td>\n",
       "      <td>0</td>\n",
       "    </tr>\n",
       "    <tr>\n",
       "      <th>157</th>\n",
       "      <td>1</td>\n",
       "      <td>Kali Bangleo Kelurahan Kali Baru</td>\n",
       "      <td>Cilincing</td>\n",
       "      <td>Jakarta Utara</td>\n",
       "      <td>1000/10</td>\n",
       "      <td>NaN</td>\n",
       "      <td>1</td>\n",
       "      <td>0</td>\n",
       "    </tr>\n",
       "    <tr>\n",
       "      <th>158</th>\n",
       "      <td>1</td>\n",
       "      <td>Kali Sengkang Kel. Kali Baru</td>\n",
       "      <td>Cilincing</td>\n",
       "      <td>Jakarta Utara</td>\n",
       "      <td>700/10</td>\n",
       "      <td>NaN</td>\n",
       "      <td>1</td>\n",
       "      <td>0</td>\n",
       "    </tr>\n",
       "    <tr>\n",
       "      <th>159</th>\n",
       "      <td>1</td>\n",
       "      <td>Kali Sepatan</td>\n",
       "      <td>Cilincing</td>\n",
       "      <td>Jakarta Utara</td>\n",
       "      <td>3000/15</td>\n",
       "      <td>NaN</td>\n",
       "      <td>1</td>\n",
       "      <td>0</td>\n",
       "    </tr>\n",
       "    <tr>\n",
       "      <th>162</th>\n",
       "      <td>1</td>\n",
       "      <td>Kali Gendong SDN 07</td>\n",
       "      <td>Cilincing</td>\n",
       "      <td>Jakarta Utara</td>\n",
       "      <td>1000/7</td>\n",
       "      <td>NaN</td>\n",
       "      <td>1</td>\n",
       "      <td>0</td>\n",
       "    </tr>\n",
       "    <tr>\n",
       "      <th>163</th>\n",
       "      <td>1</td>\n",
       "      <td>Kali Gendong Pintu Air Bulak Cabe</td>\n",
       "      <td>Cilincing</td>\n",
       "      <td>Jakarta Utara</td>\n",
       "      <td>1000/10</td>\n",
       "      <td>NaN</td>\n",
       "      <td>1</td>\n",
       "      <td>0</td>\n",
       "    </tr>\n",
       "    <tr>\n",
       "      <th>164</th>\n",
       "      <td>1</td>\n",
       "      <td>Kali Blencong Jl.Raya Cacing - Budi Darma</td>\n",
       "      <td>Cilincing</td>\n",
       "      <td>Jakarta Utara</td>\n",
       "      <td>700/15</td>\n",
       "      <td>NaN</td>\n",
       "      <td>1</td>\n",
       "      <td>0</td>\n",
       "    </tr>\n",
       "  </tbody>\n",
       "</table>\n",
       "</div>"
      ],
      "text/plain": [
       "     bulan                               titik_lokasi  kecamatan  \\\n",
       "152      1       Kali BKT Marunda Pintu Air Sekatan 1  Cilincing   \n",
       "153      1       Kali BKT Marunda Pintu Air Sekatan 2  Cilincing   \n",
       "154      1                Kali Cakung Drain Sekatan 1  Cilincing   \n",
       "155      1                Kali Cakung Drain Sekatan 2  Cilincing   \n",
       "156      1                    Kali Muara Cakung Drain  Cilincing   \n",
       "157      1           Kali Bangleo Kelurahan Kali Baru  Cilincing   \n",
       "158      1               Kali Sengkang Kel. Kali Baru  Cilincing   \n",
       "159      1                               Kali Sepatan  Cilincing   \n",
       "162      1                        Kali Gendong SDN 07  Cilincing   \n",
       "163      1          Kali Gendong Pintu Air Bulak Cabe  Cilincing   \n",
       "164      1  Kali Blencong Jl.Raya Cacing - Budi Darma  Cilincing   \n",
       "\n",
       "           wilayah panjang/luas satuan_panjang/luas  tanggal  \\\n",
       "152  Jakarta Utara      3500/70                 NaN        1   \n",
       "153  Jakarta Utara      1400/10                 NaN        1   \n",
       "154  Jakarta Utara      1100/10                 NaN        1   \n",
       "155  Jakarta Utara      1000/10                 NaN        1   \n",
       "156  Jakarta Utara      1000/10                 NaN        1   \n",
       "157  Jakarta Utara      1000/10                 NaN        1   \n",
       "158  Jakarta Utara       700/10                 NaN        1   \n",
       "159  Jakarta Utara      3000/15                 NaN        1   \n",
       "162  Jakarta Utara       1000/7                 NaN        1   \n",
       "163  Jakarta Utara      1000/10                 NaN        1   \n",
       "164  Jakarta Utara       700/15                 NaN        1   \n",
       "\n",
       "    volume_sampah_perhari(m3)  \n",
       "152                         6  \n",
       "153                         6  \n",
       "154                         0  \n",
       "155                         0  \n",
       "156                         0  \n",
       "157                         0  \n",
       "158                         0  \n",
       "159                         0  \n",
       "162                         0  \n",
       "163                         0  \n",
       "164                         0  "
      ]
     },
     "execution_count": 41,
     "metadata": {},
     "output_type": "execute_result"
    }
   ],
   "source": [
    "#menampilkan semua baris dimana terdapat value yang mengandung '/' atau value lebih dari satu pada kolom panjang/luas\n",
    "df_cons_slash_pl.head(11)"
   ]
  },
  {
   "cell_type": "markdown",
   "id": "2235b521-8768-4f2d-a237-727581ef0835",
   "metadata": {},
   "source": [
    "#### satuan_panjang/luas Column Exploration"
   ]
  },
  {
   "cell_type": "markdown",
   "id": "0d187b71-df27-4388-8f04-289f796fd2e4",
   "metadata": {},
   "source": [
    "##### 1. Eksplorasi kolom"
   ]
  },
  {
   "cell_type": "markdown",
   "id": "29a7d677-af86-4738-a161-fe6723c475e8",
   "metadata": {},
   "source": [
    "###### 1.a. Mengeksplorasi missing value"
   ]
  },
  {
   "cell_type": "markdown",
   "id": "50ae6a3d-f08b-448a-9b61-014fcf75dc6f",
   "metadata": {},
   "source": [
    "###### 1.b. Mengeksplorasi persebaran value"
   ]
  },
  {
   "cell_type": "code",
   "execution_count": 46,
   "id": "56e10b18-25e6-457f-a542-7a0249e4fce0",
   "metadata": {},
   "outputs": [
    {
     "data": {
      "text/plain": [
       "<Axes: xlabel='satuan_panjang/luas', ylabel='Count'>"
      ]
     },
     "execution_count": 46,
     "metadata": {},
     "output_type": "execute_result"
    },
    {
     "data": {
      "image/png": "[encoded data removed]",
      "text/plain": [
       "<Figure size 640x480 with 1 Axes>"
      ]
     },
     "metadata": {},
     "output_type": "display_data"
    }
   ],
   "source": [
    "#melihat persebaran satuan_panjang/luas\n",
    "sns.histplot(df['satuan_panjang/luas'])"
   ]
  },
  {
   "cell_type": "code",
   "execution_count": 47,
   "id": "b816f75c-8435-4f71-9bb7-f6ad8c6f01af",
   "metadata": {},
   "outputs": [],
   "source": [
    "#menambahkan kolom lokasi_penanganan_sampah, yang akan digunakan untuk mengidentifikasi pengisian missing value\n",
    "df['lokasi_penanganan_sampah'] = df['titik_lokasi'].str.split(' ').str[0]"
   ]
  },
  {
   "cell_type": "code",
   "execution_count": 48,
   "id": "dfb5b466-91f7-4910-8212-0fa5120cdaed",
   "metadata": {},
   "outputs": [
    {
     "data": {
      "image/png": "[encoded data removed]",
      "text/plain": [
       "<Figure size 640x480 with 1 Axes>"
      ]
     },
     "metadata": {},
     "output_type": "display_data"
    }
   ],
   "source": [
    "#melihat persebaran satuan_panjang/luas terhadap lokasi_penanganan_sampah\n",
    "sns.violinplot(data=df, x='lokasi_penanganan_sampah', hue='satuan_panjang/luas', split=True)\n",
    "plt.xticks(rotation=90)\n",
    "plt.show()"
   ]
  },
  {
   "cell_type": "markdown",
   "id": "29b9a88c-79df-4e27-9fa8-7437b6ab3299",
   "metadata": {},
   "source": [
    "##### 2. Pengerucutan value pada kolom"
   ]
  },
  {
   "cell_type": "markdown",
   "id": "3405d453-1b8e-4947-b720-c2d5418a98bb",
   "metadata": {},
   "source": [
    "###### 2.a. Pengerucutan value pada kolom satuan_panjang/luas"
   ]
  },
  {
   "cell_type": "code",
   "execution_count": 51,
   "id": "0e07da70-a9f2-4610-916c-60ce3f709cc9",
   "metadata": {},
   "outputs": [],
   "source": [
    "df['satuan_panjang/luas'] = df['satuan_panjang/luas'].replace('M³', 'm3', regex=False)"
   ]
  },
  {
   "cell_type": "code",
   "execution_count": 52,
   "id": "60646a0e-7420-48a3-9c00-0c3d939f89c7",
   "metadata": {},
   "outputs": [],
   "source": [
    "replacement_dict = {\n",
    "    'M': 'm',\n",
    "    'HA': 'Ha',\n",
    "    'm²': 'm2',\n",
    "    'hektar': 'Ha',\n",
    "    'Hektar': 'Ha'\n",
    "}\n",
    "\n",
    "df['satuan_panjang/luas'] = df['satuan_panjang/luas'].replace(replacement_dict, regex=True)"
   ]
  },
  {
   "cell_type": "code",
   "execution_count": 53,
   "id": "21d1a35d-894f-4e25-ab57-d07bf0b80e68",
   "metadata": {},
   "outputs": [],
   "source": [
    "df['satuan_panjang/luas'] = df['satuan_panjang/luas'].replace('H', 'Ha', regex=False)"
   ]
  },
  {
   "cell_type": "markdown",
   "id": "80f168f7-18e6-4668-afc2-529518307886",
   "metadata": {},
   "source": [
    "###### 2.b. Pengerucutan value pada kolom lokasi_penanganan_sampah"
   ]
  },
  {
   "cell_type": "code",
   "execution_count": 55,
   "id": "e03c5a81-1d72-431f-ac50-80704e218e8d",
   "metadata": {},
   "outputs": [],
   "source": [
    "replacement_dict = {\n",
    "    'KalI': 'Kali',\n",
    "    'kali': 'Kali',\n",
    "    'Emplasment': 'Emplacement',\n",
    "    'PHB.': 'PHB',\n",
    "    'KALI' : 'Kali',\n",
    "    'Saluan' : 'Saluran'\n",
    "}\n",
    "\n",
    "df['lokasi_penanganan_sampah'] = df['lokasi_penanganan_sampah'].replace(replacement_dict, regex=True)"
   ]
  },
  {
   "cell_type": "code",
   "execution_count": 56,
   "id": "94913224-e30b-4dfb-b890-80ee3c35ed13",
   "metadata": {},
   "outputs": [
    {
     "data": {
      "image/png": "[encoded data removed]",
      "text/plain": [
       "<Figure size 1200x600 with 1 Axes>"
      ]
     },
     "metadata": {},
     "output_type": "display_data"
    }
   ],
   "source": [
    "#persebaran setelah dilakukan pengerucutan\n",
    "plt.figure(figsize=(12, 6))\n",
    "sns.histplot(data=df, x='lokasi_penanganan_sampah', hue='satuan_panjang/luas', multiple='stack')\n",
    "plt.xticks(rotation=90)\n",
    "plt.title('Distribusi Lokasi Penanganan Sampah Berdasarkan Satuan Panjang/Luas')\n",
    "plt.ylabel('Count')\n",
    "plt.show()"
   ]
  },
  {
   "cell_type": "code",
   "execution_count": 57,
   "id": "729d0729-6d31-4fdd-9f07-6aae042c34f6",
   "metadata": {},
   "outputs": [
    {
     "name": "stdout",
     "output_type": "stream",
     "text": [
      "Anak : m = 31\n",
      "BKB : m = 31\n",
      "Banjir : m = 155\n",
      "Danau : Ha = 93\n",
      "Emplacement : m = 31\n",
      "Emplacement : m3 = 31\n",
      "HB : m = 31\n",
      "Jln. : m = 31\n",
      "Kali : Ha = 186\n",
      "Kali : km = 31\n",
      "Kali : m = 15169\n",
      "Kalimalang : m = 155\n",
      "Kalisari : m = 310\n",
      "Kapuk : Ha = 31\n",
      "PHB : Ha = 124\n",
      "PHB : m = 13923\n",
      "Perbatasan : m = 31\n",
      "Pompa : Ha = 31\n",
      "Pompa : m = 62\n",
      "Rawa : Ha = 62\n",
      "Rumah : m = 31\n",
      "Saluran : m = 285\n",
      "Saringan : m = 31\n",
      "Sekatan : m = 62\n",
      "Setu : Ha = 62\n",
      "Setu : m = 62\n",
      "Situ : Ha = 31\n",
      "Situ : m2 = 31\n",
      "Sodetan : m = 31\n",
      "Stasiun : m = 35\n",
      "Sungai : m = 62\n",
      "Titik : m = 31\n",
      "Waduk : Ha = 899\n",
      "Waduk : m = 155\n",
      "Waduk : m2 = 31\n"
     ]
    }
   ],
   "source": [
    "#memperlihatkan seberapa banyak value satuan_panjang/luas digunakan berdasarkan lokasi_penanganan_sampah setelah dilakukan pengerucutan\n",
    "counts = df.groupby(['lokasi_penanganan_sampah', 'satuan_panjang/luas']).size().reset_index(name='count')\n",
    "for index, row in counts.iterrows():\n",
    "    print(f\"{row['lokasi_penanganan_sampah']} : {row['satuan_panjang/luas']} = {row['count']}\")"
   ]
  },
  {
   "cell_type": "markdown",
   "id": "fa3e3a20-dd09-4a96-94d0-fdf21c9f2d7b",
   "metadata": {},
   "source": [
    "##### 3. Penyesuaian value dalam kolom panjang/luas dengan value pada kolom satuan_panjang/luas"
   ]
  },
  {
   "cell_type": "code",
   "execution_count": 59,
   "id": "3da6ab4a-83c8-4678-bf2f-b10fc1ce4bb2",
   "metadata": {},
   "outputs": [
    {
     "data": {
      "text/plain": [
       "0"
      ]
     },
     "execution_count": 59,
     "metadata": {},
     "output_type": "execute_result"
    }
   ],
   "source": [
    "#melihat jumlah panjang/luas dengan satuan Ha, dimana value panjang/luas melebihi 2 digit (>99.x), karena bisa jadi satuannya m\n",
    "#satuan m juga bisa 2 digit, tapi dalam kasus ini biarkan tetap Ha\n",
    "df_ha = df[df['satuan_panjang/luas'] == 'Ha']\n",
    "more_than_2digit = df_ha['panjang/luas'].apply(lambda x: len(str(x).split('.')[0]) > 2)\n",
    "len(df_ha[more_than_2digit])"
   ]
  },
  {
   "cell_type": "code",
   "execution_count": 60,
   "id": "3ec01014-0cb0-445b-9156-3b91ad9b2cdb",
   "metadata": {},
   "outputs": [
    {
     "data": {
      "text/html": [
       "<div>\n",
       "<style scoped>\n",
       "    .dataframe tbody tr th:only-of-type {\n",
       "        vertical-align: middle;\n",
       "    }\n",
       "\n",
       "    .dataframe tbody tr th {\n",
       "        vertical-align: top;\n",
       "    }\n",
       "\n",
       "    .dataframe thead th {\n",
       "        text-align: right;\n",
       "    }\n",
       "</style>\n",
       "<table border=\"1\" class=\"dataframe\">\n",
       "  <thead>\n",
       "    <tr style=\"text-align: right;\">\n",
       "      <th></th>\n",
       "      <th>titik_lokasi</th>\n",
       "      <th>kecamatan</th>\n",
       "      <th>panjang/luas</th>\n",
       "      <th>satuan_panjang/luas</th>\n",
       "      <th>lokasi_penanganan_sampah</th>\n",
       "    </tr>\n",
       "  </thead>\n",
       "  <tbody>\n",
       "    <tr>\n",
       "      <th>346</th>\n",
       "      <td>Waduk Sunter Selatan SPBU Shell</td>\n",
       "      <td>Tanjung Priok</td>\n",
       "      <td>10</td>\n",
       "      <td>Ha</td>\n",
       "      <td>Waduk</td>\n",
       "    </tr>\n",
       "    <tr>\n",
       "      <th>349</th>\n",
       "      <td>Waduk Sunter Utara Bisma</td>\n",
       "      <td>Tanjung Priok</td>\n",
       "      <td>10</td>\n",
       "      <td>Ha</td>\n",
       "      <td>Waduk</td>\n",
       "    </tr>\n",
       "    <tr>\n",
       "      <th>350</th>\n",
       "      <td>Waduk Sunter Utara Stadion BMW</td>\n",
       "      <td>Tanjung Priok</td>\n",
       "      <td>10</td>\n",
       "      <td>Ha</td>\n",
       "      <td>Waduk</td>\n",
       "    </tr>\n",
       "    <tr>\n",
       "      <th>352</th>\n",
       "      <td>Waduk Sunter Utara Daikin</td>\n",
       "      <td>Tanjung Priok</td>\n",
       "      <td>10</td>\n",
       "      <td>Ha</td>\n",
       "      <td>Waduk</td>\n",
       "    </tr>\n",
       "    <tr>\n",
       "      <th>448</th>\n",
       "      <td>Kali Blue Park (Kali Muara)</td>\n",
       "      <td>Penjaringan</td>\n",
       "      <td>15</td>\n",
       "      <td>Ha</td>\n",
       "      <td>Kali</td>\n",
       "    </tr>\n",
       "    <tr>\n",
       "      <th>449</th>\n",
       "      <td>Kali Junction (Kamal Muara)</td>\n",
       "      <td>Penjaringan</td>\n",
       "      <td>80</td>\n",
       "      <td>Ha</td>\n",
       "      <td>Kali</td>\n",
       "    </tr>\n",
       "    <tr>\n",
       "      <th>672</th>\n",
       "      <td>Waduk Hankam 1 (Jl. Raya Hankam)</td>\n",
       "      <td>Palmerah</td>\n",
       "      <td>24</td>\n",
       "      <td>Ha</td>\n",
       "      <td>Waduk</td>\n",
       "    </tr>\n",
       "    <tr>\n",
       "      <th>958</th>\n",
       "      <td>Waduk TPU Tegal Alur</td>\n",
       "      <td>Kalideres</td>\n",
       "      <td>16.617</td>\n",
       "      <td>Ha</td>\n",
       "      <td>Waduk</td>\n",
       "    </tr>\n",
       "    <tr>\n",
       "      <th>1034</th>\n",
       "      <td>Waduk Bojong (Jln. Belimbing)</td>\n",
       "      <td>Cengkareng</td>\n",
       "      <td>18.368</td>\n",
       "      <td>Ha</td>\n",
       "      <td>Waduk</td>\n",
       "    </tr>\n",
       "    <tr>\n",
       "      <th>1389</th>\n",
       "      <td>Waduk Dongkal</td>\n",
       "      <td>Ciracas</td>\n",
       "      <td>32.8</td>\n",
       "      <td>Ha</td>\n",
       "      <td>Waduk</td>\n",
       "    </tr>\n",
       "    <tr>\n",
       "      <th>1414</th>\n",
       "      <td>Kali Sunter Pondok Ranggon Ganceng</td>\n",
       "      <td>Cipayung</td>\n",
       "      <td>11.5</td>\n",
       "      <td>Ha</td>\n",
       "      <td>Kali</td>\n",
       "    </tr>\n",
       "    <tr>\n",
       "      <th>1662</th>\n",
       "      <td>Waduk Ria Rio</td>\n",
       "      <td>Pulo Gadung</td>\n",
       "      <td>26</td>\n",
       "      <td>Ha</td>\n",
       "      <td>Waduk</td>\n",
       "    </tr>\n",
       "  </tbody>\n",
       "</table>\n",
       "</div>"
      ],
      "text/plain": [
       "                            titik_lokasi      kecamatan panjang/luas  \\\n",
       "346      Waduk Sunter Selatan SPBU Shell  Tanjung Priok           10   \n",
       "349             Waduk Sunter Utara Bisma  Tanjung Priok           10   \n",
       "350       Waduk Sunter Utara Stadion BMW  Tanjung Priok           10   \n",
       "352            Waduk Sunter Utara Daikin  Tanjung Priok           10   \n",
       "448          Kali Blue Park (Kali Muara)    Penjaringan           15   \n",
       "449          Kali Junction (Kamal Muara)    Penjaringan           80   \n",
       "672     Waduk Hankam 1 (Jl. Raya Hankam)       Palmerah           24   \n",
       "958                 Waduk TPU Tegal Alur      Kalideres       16.617   \n",
       "1034       Waduk Bojong (Jln. Belimbing)     Cengkareng       18.368   \n",
       "1389                       Waduk Dongkal        Ciracas         32.8   \n",
       "1414  Kali Sunter Pondok Ranggon Ganceng       Cipayung         11.5   \n",
       "1662                       Waduk Ria Rio    Pulo Gadung           26   \n",
       "\n",
       "     satuan_panjang/luas lokasi_penanganan_sampah  \n",
       "346                   Ha                    Waduk  \n",
       "349                   Ha                    Waduk  \n",
       "350                   Ha                    Waduk  \n",
       "352                   Ha                    Waduk  \n",
       "448                   Ha                     Kali  \n",
       "449                   Ha                     Kali  \n",
       "672                   Ha                    Waduk  \n",
       "958                   Ha                    Waduk  \n",
       "1034                  Ha                    Waduk  \n",
       "1389                  Ha                    Waduk  \n",
       "1414                  Ha                     Kali  \n",
       "1662                  Ha                    Waduk  "
      ]
     },
     "execution_count": 60,
     "metadata": {},
     "output_type": "execute_result"
    }
   ],
   "source": [
    "equal_2digit = df_ha['panjang/luas'].apply(lambda x: len(str(x).split('.')[0]) == 2)\n",
    "ha_equal_2digit = df_ha[equal_2digit][['titik_lokasi', 'kecamatan', 'panjang/luas', 'satuan_panjang/luas', 'lokasi_penanganan_sampah']].drop_duplicates()\n",
    "ha_equal_2digit.head(12)"
   ]
  },
  {
   "cell_type": "code",
   "execution_count": 61,
   "id": "b88337f6-2e2a-413f-a59a-2c92354eb323",
   "metadata": {},
   "outputs": [
    {
     "data": {
      "text/plain": [
       "0"
      ]
     },
     "execution_count": 61,
     "metadata": {},
     "output_type": "execute_result"
    }
   ],
   "source": [
    "#melihat jumlah panjang/luas dengan satuan Ha, dimana value panjang/luas terdapat 2 misalnya (50/20)\n",
    "is_it_has = df_ha['panjang/luas'].str.contains('/')\n",
    "len(df_ha[is_it_has])"
   ]
  },
  {
   "cell_type": "code",
   "execution_count": 62,
   "id": "5d9fdffb-202f-4968-ab32-b7048c170bc9",
   "metadata": {},
   "outputs": [
    {
     "data": {
      "text/html": [
       "<div>\n",
       "<style scoped>\n",
       "    .dataframe tbody tr th:only-of-type {\n",
       "        vertical-align: middle;\n",
       "    }\n",
       "\n",
       "    .dataframe tbody tr th {\n",
       "        vertical-align: top;\n",
       "    }\n",
       "\n",
       "    .dataframe thead th {\n",
       "        text-align: right;\n",
       "    }\n",
       "</style>\n",
       "<table border=\"1\" class=\"dataframe\">\n",
       "  <thead>\n",
       "    <tr style=\"text-align: right;\">\n",
       "      <th></th>\n",
       "      <th>titik_lokasi</th>\n",
       "      <th>kecamatan</th>\n",
       "      <th>panjang/luas</th>\n",
       "      <th>satuan_panjang/luas</th>\n",
       "      <th>lokasi_penanganan_sampah</th>\n",
       "    </tr>\n",
       "  </thead>\n",
       "  <tbody>\n",
       "    <tr>\n",
       "      <th>448</th>\n",
       "      <td>Kali Blue Park (Kali Muara)</td>\n",
       "      <td>Penjaringan</td>\n",
       "      <td>15</td>\n",
       "      <td>Ha</td>\n",
       "      <td>Kali</td>\n",
       "    </tr>\n",
       "    <tr>\n",
       "      <th>449</th>\n",
       "      <td>Kali Junction (Kamal Muara)</td>\n",
       "      <td>Penjaringan</td>\n",
       "      <td>80</td>\n",
       "      <td>Ha</td>\n",
       "      <td>Kali</td>\n",
       "    </tr>\n",
       "    <tr>\n",
       "      <th>450</th>\n",
       "      <td>Kali Golf Land (Kamal Muara)</td>\n",
       "      <td>Penjaringan</td>\n",
       "      <td>3</td>\n",
       "      <td>Ha</td>\n",
       "      <td>Kali</td>\n",
       "    </tr>\n",
       "    <tr>\n",
       "      <th>1164</th>\n",
       "      <td>Kali Sarua Danau L Taman margasatwa Ragunan</td>\n",
       "      <td>Pasar Minggu</td>\n",
       "      <td>2.3</td>\n",
       "      <td>Ha</td>\n",
       "      <td>Kali</td>\n",
       "    </tr>\n",
       "    <tr>\n",
       "      <th>1414</th>\n",
       "      <td>Kali Sunter Pondok Ranggon Ganceng</td>\n",
       "      <td>Cipayung</td>\n",
       "      <td>11.5</td>\n",
       "      <td>Ha</td>\n",
       "      <td>Kali</td>\n",
       "    </tr>\n",
       "    <tr>\n",
       "      <th>1695</th>\n",
       "      <td>Kali Tambun Rengas (Bendungan Merah)</td>\n",
       "      <td>Cakung</td>\n",
       "      <td>3</td>\n",
       "      <td>Ha</td>\n",
       "      <td>Kali</td>\n",
       "    </tr>\n",
       "  </tbody>\n",
       "</table>\n",
       "</div>"
      ],
      "text/plain": [
       "                                     titik_lokasi     kecamatan panjang/luas  \\\n",
       "448                   Kali Blue Park (Kali Muara)   Penjaringan           15   \n",
       "449                   Kali Junction (Kamal Muara)   Penjaringan           80   \n",
       "450                  Kali Golf Land (Kamal Muara)   Penjaringan            3   \n",
       "1164  Kali Sarua Danau L Taman margasatwa Ragunan  Pasar Minggu          2.3   \n",
       "1414           Kali Sunter Pondok Ranggon Ganceng      Cipayung         11.5   \n",
       "1695         Kali Tambun Rengas (Bendungan Merah)        Cakung            3   \n",
       "\n",
       "     satuan_panjang/luas lokasi_penanganan_sampah  \n",
       "448                   Ha                     Kali  \n",
       "449                   Ha                     Kali  \n",
       "450                   Ha                     Kali  \n",
       "1164                  Ha                     Kali  \n",
       "1414                  Ha                     Kali  \n",
       "1695                  Ha                     Kali  "
      ]
     },
     "execution_count": 62,
     "metadata": {},
     "output_type": "execute_result"
    }
   ],
   "source": [
    "kali_ha = df[(df['satuan_panjang/luas'] == 'Ha') & (df['lokasi_penanganan_sampah'] == 'Kali')][['titik_lokasi', 'kecamatan', 'panjang/luas', 'satuan_panjang/luas', 'lokasi_penanganan_sampah']].drop_duplicates()\n",
    "kali_ha.head(6)"
   ]
  },
  {
   "cell_type": "code",
   "execution_count": 63,
   "id": "c02ccfeb-53b9-4903-ac55-762564655771",
   "metadata": {},
   "outputs": [
    {
     "data": {
      "text/html": [
       "<div>\n",
       "<style scoped>\n",
       "    .dataframe tbody tr th:only-of-type {\n",
       "        vertical-align: middle;\n",
       "    }\n",
       "\n",
       "    .dataframe tbody tr th {\n",
       "        vertical-align: top;\n",
       "    }\n",
       "\n",
       "    .dataframe thead th {\n",
       "        text-align: right;\n",
       "    }\n",
       "</style>\n",
       "<table border=\"1\" class=\"dataframe\">\n",
       "  <thead>\n",
       "    <tr style=\"text-align: right;\">\n",
       "      <th></th>\n",
       "      <th>titik_lokasi</th>\n",
       "      <th>kecamatan</th>\n",
       "      <th>panjang/luas</th>\n",
       "      <th>satuan_panjang/luas</th>\n",
       "      <th>lokasi_penanganan_sampah</th>\n",
       "    </tr>\n",
       "  </thead>\n",
       "  <tbody>\n",
       "    <tr>\n",
       "      <th>177</th>\n",
       "      <td>PHB Akses Marunda</td>\n",
       "      <td>Cilincing</td>\n",
       "      <td>1</td>\n",
       "      <td>Ha</td>\n",
       "      <td>PHB</td>\n",
       "    </tr>\n",
       "    <tr>\n",
       "      <th>474</th>\n",
       "      <td>PHB Kali Gendong Jembatan II</td>\n",
       "      <td>Penjaringan</td>\n",
       "      <td>2</td>\n",
       "      <td>Ha</td>\n",
       "      <td>PHB</td>\n",
       "    </tr>\n",
       "    <tr>\n",
       "      <th>1693</th>\n",
       "      <td>PHB Rawa Bebek Pulo Gebang</td>\n",
       "      <td>Cakung</td>\n",
       "      <td>3</td>\n",
       "      <td>Ha</td>\n",
       "      <td>PHB</td>\n",
       "    </tr>\n",
       "    <tr>\n",
       "      <th>1694</th>\n",
       "      <td>PHB Sosro Pulo Gebang</td>\n",
       "      <td>Cakung</td>\n",
       "      <td>5</td>\n",
       "      <td>Ha</td>\n",
       "      <td>PHB</td>\n",
       "    </tr>\n",
       "  </tbody>\n",
       "</table>\n",
       "</div>"
      ],
      "text/plain": [
       "                      titik_lokasi    kecamatan panjang/luas  \\\n",
       "177              PHB Akses Marunda    Cilincing            1   \n",
       "474   PHB Kali Gendong Jembatan II  Penjaringan            2   \n",
       "1693    PHB Rawa Bebek Pulo Gebang       Cakung            3   \n",
       "1694         PHB Sosro Pulo Gebang       Cakung            5   \n",
       "\n",
       "     satuan_panjang/luas lokasi_penanganan_sampah  \n",
       "177                   Ha                      PHB  \n",
       "474                   Ha                      PHB  \n",
       "1693                  Ha                      PHB  \n",
       "1694                  Ha                      PHB  "
      ]
     },
     "execution_count": 63,
     "metadata": {},
     "output_type": "execute_result"
    }
   ],
   "source": [
    "phb_ha = df[(df['satuan_panjang/luas'] == 'Ha') & (df['lokasi_penanganan_sampah'] == 'PHB')][['titik_lokasi', 'kecamatan', 'panjang/luas', 'satuan_panjang/luas', 'lokasi_penanganan_sampah']].drop_duplicates()\n",
    "phb_ha.head()"
   ]
  },
  {
   "cell_type": "code",
   "execution_count": 64,
   "id": "fad77f79-239c-47c9-b65a-b9f3fa78aef7",
   "metadata": {},
   "outputs": [
    {
     "data": {
      "text/html": [
       "<div>\n",
       "<style scoped>\n",
       "    .dataframe tbody tr th:only-of-type {\n",
       "        vertical-align: middle;\n",
       "    }\n",
       "\n",
       "    .dataframe tbody tr th {\n",
       "        vertical-align: top;\n",
       "    }\n",
       "\n",
       "    .dataframe thead th {\n",
       "        text-align: right;\n",
       "    }\n",
       "</style>\n",
       "<table border=\"1\" class=\"dataframe\">\n",
       "  <thead>\n",
       "    <tr style=\"text-align: right;\">\n",
       "      <th></th>\n",
       "      <th>titik_lokasi</th>\n",
       "      <th>kecamatan</th>\n",
       "      <th>panjang/luas</th>\n",
       "      <th>satuan_panjang/luas</th>\n",
       "      <th>lokasi_penanganan_sampah</th>\n",
       "    </tr>\n",
       "  </thead>\n",
       "  <tbody>\n",
       "    <tr>\n",
       "      <th>594</th>\n",
       "      <td>Danau Hutan Kota Srengseng</td>\n",
       "      <td>Kembangan</td>\n",
       "      <td>1.5</td>\n",
       "      <td>Ha</td>\n",
       "      <td>Danau</td>\n",
       "    </tr>\n",
       "    <tr>\n",
       "      <th>1165</th>\n",
       "      <td>Danau Filter Taman Margasatwa Ragunan</td>\n",
       "      <td>Pasar Minggu</td>\n",
       "      <td>1</td>\n",
       "      <td>Ha</td>\n",
       "      <td>Danau</td>\n",
       "    </tr>\n",
       "    <tr>\n",
       "      <th>1183</th>\n",
       "      <td>Danau Gura - gura Duren Tiga</td>\n",
       "      <td>Pancoran</td>\n",
       "      <td>1.5</td>\n",
       "      <td>Ha</td>\n",
       "      <td>Danau</td>\n",
       "    </tr>\n",
       "  </tbody>\n",
       "</table>\n",
       "</div>"
      ],
      "text/plain": [
       "                               titik_lokasi     kecamatan panjang/luas  \\\n",
       "594              Danau Hutan Kota Srengseng     Kembangan          1.5   \n",
       "1165  Danau Filter Taman Margasatwa Ragunan  Pasar Minggu            1   \n",
       "1183           Danau Gura - gura Duren Tiga      Pancoran          1.5   \n",
       "\n",
       "     satuan_panjang/luas lokasi_penanganan_sampah  \n",
       "594                   Ha                    Danau  \n",
       "1165                  Ha                    Danau  \n",
       "1183                  Ha                    Danau  "
      ]
     },
     "execution_count": 64,
     "metadata": {},
     "output_type": "execute_result"
    }
   ],
   "source": [
    "danau_ha = df[(df['satuan_panjang/luas'] == 'Ha') & (df['lokasi_penanganan_sampah'] == 'Danau')][['titik_lokasi', 'kecamatan', 'panjang/luas', 'satuan_panjang/luas', 'lokasi_penanganan_sampah']].drop_duplicates()\n",
    "danau_ha.head(3)"
   ]
  },
  {
   "cell_type": "code",
   "execution_count": 65,
   "id": "1403caf4-6ce5-4fb1-92e4-0305d2e53d22",
   "metadata": {},
   "outputs": [
    {
     "data": {
      "text/html": [
       "<div>\n",
       "<style scoped>\n",
       "    .dataframe tbody tr th:only-of-type {\n",
       "        vertical-align: middle;\n",
       "    }\n",
       "\n",
       "    .dataframe tbody tr th {\n",
       "        vertical-align: top;\n",
       "    }\n",
       "\n",
       "    .dataframe thead th {\n",
       "        text-align: right;\n",
       "    }\n",
       "</style>\n",
       "<table border=\"1\" class=\"dataframe\">\n",
       "  <thead>\n",
       "    <tr style=\"text-align: right;\">\n",
       "      <th></th>\n",
       "      <th>titik_lokasi</th>\n",
       "      <th>kecamatan</th>\n",
       "      <th>panjang/luas</th>\n",
       "      <th>satuan_panjang/luas</th>\n",
       "      <th>lokasi_penanganan_sampah</th>\n",
       "    </tr>\n",
       "  </thead>\n",
       "  <tbody>\n",
       "    <tr>\n",
       "      <th>589</th>\n",
       "      <td>Situ kebun bibit jl pospengumben lama srengseng</td>\n",
       "      <td>Kembangan</td>\n",
       "      <td>0.9</td>\n",
       "      <td>Ha</td>\n",
       "      <td>Situ</td>\n",
       "    </tr>\n",
       "  </tbody>\n",
       "</table>\n",
       "</div>"
      ],
      "text/plain": [
       "                                        titik_lokasi  kecamatan panjang/luas  \\\n",
       "589  Situ kebun bibit jl pospengumben lama srengseng  Kembangan          0.9   \n",
       "\n",
       "    satuan_panjang/luas lokasi_penanganan_sampah  \n",
       "589                  Ha                     Situ  "
      ]
     },
     "execution_count": 65,
     "metadata": {},
     "output_type": "execute_result"
    }
   ],
   "source": [
    "situ_ha = df[(df['satuan_panjang/luas'] == 'Ha') & (df['lokasi_penanganan_sampah'] == 'Situ')][['titik_lokasi', 'kecamatan', 'panjang/luas', 'satuan_panjang/luas', 'lokasi_penanganan_sampah']].drop_duplicates()\n",
    "situ_ha"
   ]
  },
  {
   "cell_type": "code",
   "execution_count": 66,
   "id": "0d2333b2-8aaa-4d10-a965-c4fe5cb55e8b",
   "metadata": {},
   "outputs": [
    {
     "data": {
      "text/html": [
       "<div>\n",
       "<style scoped>\n",
       "    .dataframe tbody tr th:only-of-type {\n",
       "        vertical-align: middle;\n",
       "    }\n",
       "\n",
       "    .dataframe tbody tr th {\n",
       "        vertical-align: top;\n",
       "    }\n",
       "\n",
       "    .dataframe thead th {\n",
       "        text-align: right;\n",
       "    }\n",
       "</style>\n",
       "<table border=\"1\" class=\"dataframe\">\n",
       "  <thead>\n",
       "    <tr style=\"text-align: right;\">\n",
       "      <th></th>\n",
       "      <th>titik_lokasi</th>\n",
       "      <th>kecamatan</th>\n",
       "      <th>panjang/luas</th>\n",
       "      <th>satuan_panjang/luas</th>\n",
       "      <th>lokasi_penanganan_sampah</th>\n",
       "    </tr>\n",
       "  </thead>\n",
       "  <tbody>\n",
       "    <tr>\n",
       "      <th>745</th>\n",
       "      <td>Banjir Kanal Barat Seasons City (Jln. Inspeksi...</td>\n",
       "      <td>Tambora</td>\n",
       "      <td>2.5</td>\n",
       "      <td>m</td>\n",
       "      <td>Banjir</td>\n",
       "    </tr>\n",
       "    <tr>\n",
       "      <th>2449</th>\n",
       "      <td>Saluran PHB. Da'an Mogot 2 ( Jln. Da'an Mogot ...</td>\n",
       "      <td>Kebon Jeruk</td>\n",
       "      <td>1.07</td>\n",
       "      <td>m</td>\n",
       "      <td>Saluran</td>\n",
       "    </tr>\n",
       "    <tr>\n",
       "      <th>2450</th>\n",
       "      <td>Saluran PHB. Jln. Inspeksi Sekretaris (Pos Pol...</td>\n",
       "      <td>Kebon Jeruk</td>\n",
       "      <td>1.07</td>\n",
       "      <td>m</td>\n",
       "      <td>Saluran</td>\n",
       "    </tr>\n",
       "    <tr>\n",
       "      <th>2451</th>\n",
       "      <td>Kali Sekretaris ( Perbatasan Jakarta Barat dan...</td>\n",
       "      <td>Kebon Jeruk</td>\n",
       "      <td>1.172</td>\n",
       "      <td>m</td>\n",
       "      <td>Kali</td>\n",
       "    </tr>\n",
       "    <tr>\n",
       "      <th>2452</th>\n",
       "      <td>Kali Sekretaris ( Jln.KPBD Kavling - Jln.H.Muh...</td>\n",
       "      <td>Kebon Jeruk</td>\n",
       "      <td>1.502</td>\n",
       "      <td>m</td>\n",
       "      <td>Kali</td>\n",
       "    </tr>\n",
       "    <tr>\n",
       "      <th>2455</th>\n",
       "      <td>Kali Sekretaris ( Jln. Sasak Dua - Jln. Anggre...</td>\n",
       "      <td>Kebon Jeruk</td>\n",
       "      <td>1</td>\n",
       "      <td>m</td>\n",
       "      <td>Kali</td>\n",
       "    </tr>\n",
       "    <tr>\n",
       "      <th>2456</th>\n",
       "      <td>Kali Sekretaris ( Jln. Anggrek Cakra - Jln. Mu...</td>\n",
       "      <td>Kebon Jeruk</td>\n",
       "      <td>1.32</td>\n",
       "      <td>m</td>\n",
       "      <td>Kali</td>\n",
       "    </tr>\n",
       "    <tr>\n",
       "      <th>2461</th>\n",
       "      <td>Kali Villa Kelapa Dua (Jln. Pos Pengumben Raya...</td>\n",
       "      <td>Kebon Jeruk</td>\n",
       "      <td>1.359</td>\n",
       "      <td>m</td>\n",
       "      <td>Kali</td>\n",
       "    </tr>\n",
       "    <tr>\n",
       "      <th>2463</th>\n",
       "      <td>Kali Saluran PHB. Kebon Jeruk Baru ( Jln. Kamp...</td>\n",
       "      <td>Kebon Jeruk</td>\n",
       "      <td>1.247</td>\n",
       "      <td>m</td>\n",
       "      <td>Kali</td>\n",
       "    </tr>\n",
       "    <tr>\n",
       "      <th>2464</th>\n",
       "      <td>Saluran PHB Perumahan Kodam (Studio Penta SCTV...</td>\n",
       "      <td>Kebon Jeruk</td>\n",
       "      <td>1.642</td>\n",
       "      <td>m</td>\n",
       "      <td>Saluran</td>\n",
       "    </tr>\n",
       "    <tr>\n",
       "      <th>2465</th>\n",
       "      <td>Saluran PHB. Sasak Dua ( Halte Busway Sasak 2 ...</td>\n",
       "      <td>Kebon Jeruk</td>\n",
       "      <td>1.12</td>\n",
       "      <td>m</td>\n",
       "      <td>Saluran</td>\n",
       "    </tr>\n",
       "  </tbody>\n",
       "</table>\n",
       "</div>"
      ],
      "text/plain": [
       "                                           titik_lokasi    kecamatan  \\\n",
       "745   Banjir Kanal Barat Seasons City (Jln. Inspeksi...      Tambora   \n",
       "2449  Saluran PHB. Da'an Mogot 2 ( Jln. Da'an Mogot ...  Kebon Jeruk   \n",
       "2450  Saluran PHB. Jln. Inspeksi Sekretaris (Pos Pol...  Kebon Jeruk   \n",
       "2451  Kali Sekretaris ( Perbatasan Jakarta Barat dan...  Kebon Jeruk   \n",
       "2452  Kali Sekretaris ( Jln.KPBD Kavling - Jln.H.Muh...  Kebon Jeruk   \n",
       "2455  Kali Sekretaris ( Jln. Sasak Dua - Jln. Anggre...  Kebon Jeruk   \n",
       "2456  Kali Sekretaris ( Jln. Anggrek Cakra - Jln. Mu...  Kebon Jeruk   \n",
       "2461  Kali Villa Kelapa Dua (Jln. Pos Pengumben Raya...  Kebon Jeruk   \n",
       "2463  Kali Saluran PHB. Kebon Jeruk Baru ( Jln. Kamp...  Kebon Jeruk   \n",
       "2464  Saluran PHB Perumahan Kodam (Studio Penta SCTV...  Kebon Jeruk   \n",
       "2465  Saluran PHB. Sasak Dua ( Halte Busway Sasak 2 ...  Kebon Jeruk   \n",
       "\n",
       "     panjang/luas satuan_panjang/luas lokasi_penanganan_sampah  \n",
       "745           2.5                   m                   Banjir  \n",
       "2449         1.07                   m                  Saluran  \n",
       "2450         1.07                   m                  Saluran  \n",
       "2451        1.172                   m                     Kali  \n",
       "2452        1.502                   m                     Kali  \n",
       "2455            1                   m                     Kali  \n",
       "2456         1.32                   m                     Kali  \n",
       "2461        1.359                   m                     Kali  \n",
       "2463        1.247                   m                     Kali  \n",
       "2464        1.642                   m                  Saluran  \n",
       "2465         1.12                   m                  Saluran  "
      ]
     },
     "execution_count": 66,
     "metadata": {},
     "output_type": "execute_result"
    }
   ],
   "source": [
    "#melihat jumlah panjang/luas dengan satuan m, dimana value panjang/luas kurang dari 2 digit (<10), karena bisa jadi satuannya km (ini termasuk noise)\n",
    "#bisa jadi juga satuannya Ha tetapi lebih masuk akal menggunakan km\n",
    "#terdapat juga df_m yang memiliki panjang 2 digit bisa jadi m atau Ha, atau value satuan_panjang/luas lain, dalam kasus ini biarkan saja\n",
    "df_m = df[df['satuan_panjang/luas'] == 'm']\n",
    "less_than_2digit = df_m['panjang/luas'].apply(lambda x: len(str(x).split('.')[0]) < 2)\n",
    "m_less_than_2digit = df_m[less_than_2digit][['titik_lokasi', 'kecamatan', 'panjang/luas', 'satuan_panjang/luas', 'lokasi_penanganan_sampah']].drop_duplicates()\n",
    "m_less_than_2digit.head(11)"
   ]
  },
  {
   "cell_type": "code",
   "execution_count": null,
   "id": "828b2bdd-3fe4-4561-b8b0-a1464f7a5703",
   "metadata": {},
   "outputs": [],
   "source": []
  },
  {
   "cell_type": "code",
   "execution_count": 67,
   "id": "5ba7a641-796b-4786-b34d-65a01a4a6a0d",
   "metadata": {},
   "outputs": [
    {
     "data": {
      "text/html": [
       "<div>\n",
       "<style scoped>\n",
       "    .dataframe tbody tr th:only-of-type {\n",
       "        vertical-align: middle;\n",
       "    }\n",
       "\n",
       "    .dataframe tbody tr th {\n",
       "        vertical-align: top;\n",
       "    }\n",
       "\n",
       "    .dataframe thead th {\n",
       "        text-align: right;\n",
       "    }\n",
       "</style>\n",
       "<table border=\"1\" class=\"dataframe\">\n",
       "  <thead>\n",
       "    <tr style=\"text-align: right;\">\n",
       "      <th></th>\n",
       "      <th>titik_lokasi</th>\n",
       "      <th>kecamatan</th>\n",
       "      <th>panjang/luas</th>\n",
       "      <th>satuan_panjang/luas</th>\n",
       "      <th>lokasi_penanganan_sampah</th>\n",
       "    </tr>\n",
       "  </thead>\n",
       "  <tbody>\n",
       "    <tr>\n",
       "      <th>684</th>\n",
       "      <td>Titik Saringan Jatipulo</td>\n",
       "      <td>Palmerah</td>\n",
       "      <td>31.5</td>\n",
       "      <td>m</td>\n",
       "      <td>Titik</td>\n",
       "    </tr>\n",
       "  </tbody>\n",
       "</table>\n",
       "</div>"
      ],
      "text/plain": [
       "                titik_lokasi kecamatan panjang/luas satuan_panjang/luas  \\\n",
       "684  Titik Saringan Jatipulo  Palmerah         31.5                   m   \n",
       "\n",
       "    lokasi_penanganan_sampah  \n",
       "684                    Titik  "
      ]
     },
     "execution_count": 67,
     "metadata": {},
     "output_type": "execute_result"
    }
   ],
   "source": [
    "equal_2digit = df_m['panjang/luas'].apply(lambda x: len(str(x).split('.')[0]) == 2)\n",
    "m_equal_2digit = df_m[equal_2digit][['titik_lokasi', 'kecamatan', 'panjang/luas', 'satuan_panjang/luas', 'lokasi_penanganan_sampah']].drop_duplicates()\n",
    "m_equal_2digit"
   ]
  },
  {
   "cell_type": "code",
   "execution_count": 68,
   "id": "4b882d48-3a04-4cf0-b6e6-a35e86d3dd10",
   "metadata": {},
   "outputs": [
    {
     "data": {
      "text/plain": [
       "0"
      ]
     },
     "execution_count": 68,
     "metadata": {},
     "output_type": "execute_result"
    }
   ],
   "source": [
    "#melihat jumlah panjang/luas dengan satuan m, dimana value panjang/luas terdapat 2 misalnya (1000/20)\n",
    "is_it_has = df_m['panjang/luas'].str.contains('/')\n",
    "len(df_m[is_it_has])"
   ]
  },
  {
   "cell_type": "code",
   "execution_count": 69,
   "id": "07a9f4fc-15c1-4e0c-b368-2f7274f84e4f",
   "metadata": {},
   "outputs": [
    {
     "data": {
      "text/html": [
       "<div>\n",
       "<style scoped>\n",
       "    .dataframe tbody tr th:only-of-type {\n",
       "        vertical-align: middle;\n",
       "    }\n",
       "\n",
       "    .dataframe tbody tr th {\n",
       "        vertical-align: top;\n",
       "    }\n",
       "\n",
       "    .dataframe thead th {\n",
       "        text-align: right;\n",
       "    }\n",
       "</style>\n",
       "<table border=\"1\" class=\"dataframe\">\n",
       "  <thead>\n",
       "    <tr style=\"text-align: right;\">\n",
       "      <th></th>\n",
       "      <th>titik_lokasi</th>\n",
       "      <th>kecamatan</th>\n",
       "      <th>panjang/luas</th>\n",
       "      <th>satuan_panjang/luas</th>\n",
       "      <th>lokasi_penanganan_sampah</th>\n",
       "    </tr>\n",
       "  </thead>\n",
       "  <tbody>\n",
       "    <tr>\n",
       "      <th>995</th>\n",
       "      <td>Waduk Citra 6</td>\n",
       "      <td>Kalideres</td>\n",
       "      <td>1000</td>\n",
       "      <td>m</td>\n",
       "      <td>Waduk</td>\n",
       "    </tr>\n",
       "    <tr>\n",
       "      <th>1415</th>\n",
       "      <td>Waduk Pondok Ranggon</td>\n",
       "      <td>Cipayung</td>\n",
       "      <td>3000</td>\n",
       "      <td>m</td>\n",
       "      <td>Waduk</td>\n",
       "    </tr>\n",
       "    <tr>\n",
       "      <th>1719</th>\n",
       "      <td>Waduk Rawa Badung I</td>\n",
       "      <td>Cakung</td>\n",
       "      <td>800</td>\n",
       "      <td>m</td>\n",
       "      <td>Waduk</td>\n",
       "    </tr>\n",
       "    <tr>\n",
       "      <th>1720</th>\n",
       "      <td>Waduk Rawa Badung II</td>\n",
       "      <td>Cakung</td>\n",
       "      <td>800</td>\n",
       "      <td>m</td>\n",
       "      <td>Waduk</td>\n",
       "    </tr>\n",
       "    <tr>\n",
       "      <th>1743</th>\n",
       "      <td>Waduk Aneka Elok</td>\n",
       "      <td>Cakung</td>\n",
       "      <td>700</td>\n",
       "      <td>m</td>\n",
       "      <td>Waduk</td>\n",
       "    </tr>\n",
       "  </tbody>\n",
       "</table>\n",
       "</div>"
      ],
      "text/plain": [
       "              titik_lokasi  kecamatan panjang/luas satuan_panjang/luas  \\\n",
       "995          Waduk Citra 6  Kalideres         1000                   m   \n",
       "1415  Waduk Pondok Ranggon   Cipayung         3000                   m   \n",
       "1719   Waduk Rawa Badung I     Cakung          800                   m   \n",
       "1720  Waduk Rawa Badung II     Cakung          800                   m   \n",
       "1743      Waduk Aneka Elok     Cakung          700                   m   \n",
       "\n",
       "     lokasi_penanganan_sampah  \n",
       "995                     Waduk  \n",
       "1415                    Waduk  \n",
       "1719                    Waduk  \n",
       "1720                    Waduk  \n",
       "1743                    Waduk  "
      ]
     },
     "execution_count": 69,
     "metadata": {},
     "output_type": "execute_result"
    }
   ],
   "source": [
    "waduk_m = df[(df['satuan_panjang/luas'] == 'm') & (df['lokasi_penanganan_sampah'] == 'Waduk')][['titik_lokasi', 'kecamatan', 'panjang/luas', 'satuan_panjang/luas', 'lokasi_penanganan_sampah']].drop_duplicates()\n",
    "waduk_m.head()"
   ]
  },
  {
   "cell_type": "code",
   "execution_count": 70,
   "id": "fb8cb83e-bc0a-4856-8f4e-a7816fb8b55c",
   "metadata": {},
   "outputs": [
    {
     "data": {
      "text/html": [
       "<div>\n",
       "<style scoped>\n",
       "    .dataframe tbody tr th:only-of-type {\n",
       "        vertical-align: middle;\n",
       "    }\n",
       "\n",
       "    .dataframe tbody tr th {\n",
       "        vertical-align: top;\n",
       "    }\n",
       "\n",
       "    .dataframe thead th {\n",
       "        text-align: right;\n",
       "    }\n",
       "</style>\n",
       "<table border=\"1\" class=\"dataframe\">\n",
       "  <thead>\n",
       "    <tr style=\"text-align: right;\">\n",
       "      <th></th>\n",
       "      <th>titik_lokasi</th>\n",
       "      <th>kecamatan</th>\n",
       "      <th>panjang/luas</th>\n",
       "      <th>satuan_panjang/luas</th>\n",
       "      <th>lokasi_penanganan_sampah</th>\n",
       "    </tr>\n",
       "  </thead>\n",
       "  <tbody>\n",
       "  </tbody>\n",
       "</table>\n",
       "</div>"
      ],
      "text/plain": [
       "Empty DataFrame\n",
       "Columns: [titik_lokasi, kecamatan, panjang/luas, satuan_panjang/luas, lokasi_penanganan_sampah]\n",
       "Index: []"
      ]
     },
     "execution_count": 70,
     "metadata": {},
     "output_type": "execute_result"
    }
   ],
   "source": [
    "danau_m = df[(df['satuan_panjang/luas'] == 'm') & (df['lokasi_penanganan_sampah'] == 'Danau')][['titik_lokasi', 'kecamatan', 'panjang/luas', 'satuan_panjang/luas', 'lokasi_penanganan_sampah']].drop_duplicates()\n",
    "danau_m.head(5)"
   ]
  },
  {
   "cell_type": "code",
   "execution_count": 71,
   "id": "901beee4-2fe6-4bed-accf-e2fe4fa6d8fa",
   "metadata": {},
   "outputs": [
    {
     "data": {
      "text/html": [
       "<div>\n",
       "<style scoped>\n",
       "    .dataframe tbody tr th:only-of-type {\n",
       "        vertical-align: middle;\n",
       "    }\n",
       "\n",
       "    .dataframe tbody tr th {\n",
       "        vertical-align: top;\n",
       "    }\n",
       "\n",
       "    .dataframe thead th {\n",
       "        text-align: right;\n",
       "    }\n",
       "</style>\n",
       "<table border=\"1\" class=\"dataframe\">\n",
       "  <thead>\n",
       "    <tr style=\"text-align: right;\">\n",
       "      <th></th>\n",
       "      <th>titik_lokasi</th>\n",
       "      <th>kecamatan</th>\n",
       "      <th>wilayah</th>\n",
       "      <th>panjang/luas</th>\n",
       "      <th>satuan_panjang/luas</th>\n",
       "      <th>lokasi_penanganan_sampah</th>\n",
       "    </tr>\n",
       "  </thead>\n",
       "  <tbody>\n",
       "    <tr>\n",
       "      <th>744</th>\n",
       "      <td>Emplacement Rumah Pompa Cibubur</td>\n",
       "      <td>Tambora</td>\n",
       "      <td>Jakarta Barat</td>\n",
       "      <td>200</td>\n",
       "      <td>m</td>\n",
       "      <td>Emplacement</td>\n",
       "    </tr>\n",
       "  </tbody>\n",
       "</table>\n",
       "</div>"
      ],
      "text/plain": [
       "                        titik_lokasi kecamatan        wilayah panjang/luas  \\\n",
       "744  Emplacement Rumah Pompa Cibubur   Tambora  Jakarta Barat          200   \n",
       "\n",
       "    satuan_panjang/luas lokasi_penanganan_sampah  \n",
       "744                   m              Emplacement  "
      ]
     },
     "execution_count": 71,
     "metadata": {},
     "output_type": "execute_result"
    }
   ],
   "source": [
    "emplacement_m = df[(df['satuan_panjang/luas'] == 'm') & (df['lokasi_penanganan_sampah'] == 'Emplacement')][['titik_lokasi', 'kecamatan', 'wilayah', 'panjang/luas', 'satuan_panjang/luas', 'lokasi_penanganan_sampah']].drop_duplicates()\n",
    "emplacement_m"
   ]
  },
  {
   "cell_type": "code",
   "execution_count": 72,
   "id": "89f5b8e4-e498-46ae-a6e1-e6e4b771f1ae",
   "metadata": {},
   "outputs": [
    {
     "data": {
      "text/plain": [
       "0"
      ]
     },
     "execution_count": 72,
     "metadata": {},
     "output_type": "execute_result"
    }
   ],
   "source": [
    "#melihat jumlah panjang/luas dengan satuan m2, dimana value panjang/luas melebihi 2 digit (>99.x), karena bisa jadi satuannya m\n",
    "df_m2 = df[df['satuan_panjang/luas'] == 'm2']\n",
    "more_than_2digit = df_m2['panjang/luas'].apply(lambda x: len(str(x).split('.')[0]) > 2)\n",
    "len(df_m2[more_than_2digit])"
   ]
  },
  {
   "cell_type": "code",
   "execution_count": 73,
   "id": "8b168160-e3c1-46b1-bd0d-da7aafe0b18c",
   "metadata": {},
   "outputs": [
    {
     "data": {
      "text/html": [
       "<div>\n",
       "<style scoped>\n",
       "    .dataframe tbody tr th:only-of-type {\n",
       "        vertical-align: middle;\n",
       "    }\n",
       "\n",
       "    .dataframe tbody tr th {\n",
       "        vertical-align: top;\n",
       "    }\n",
       "\n",
       "    .dataframe thead th {\n",
       "        text-align: right;\n",
       "    }\n",
       "</style>\n",
       "<table border=\"1\" class=\"dataframe\">\n",
       "  <thead>\n",
       "    <tr style=\"text-align: right;\">\n",
       "      <th></th>\n",
       "      <th>bulan</th>\n",
       "      <th>titik_lokasi</th>\n",
       "      <th>kecamatan</th>\n",
       "      <th>wilayah</th>\n",
       "      <th>panjang/luas</th>\n",
       "      <th>satuan_panjang/luas</th>\n",
       "      <th>tanggal</th>\n",
       "      <th>volume_sampah_perhari(m3)</th>\n",
       "      <th>lokasi_penanganan_sampah</th>\n",
       "    </tr>\n",
       "  </thead>\n",
       "  <tbody>\n",
       "    <tr>\n",
       "      <th>85</th>\n",
       "      <td>1</td>\n",
       "      <td>Situ Lembang</td>\n",
       "      <td>Menteng</td>\n",
       "      <td>Jakarta Pusat</td>\n",
       "      <td>14.15</td>\n",
       "      <td>m2</td>\n",
       "      <td>1</td>\n",
       "      <td>12</td>\n",
       "      <td>Situ</td>\n",
       "    </tr>\n",
       "    <tr>\n",
       "      <th>1838</th>\n",
       "      <td>1</td>\n",
       "      <td>Situ Lembang</td>\n",
       "      <td>Menteng</td>\n",
       "      <td>Jakarta Pusat</td>\n",
       "      <td>14.15</td>\n",
       "      <td>m2</td>\n",
       "      <td>2</td>\n",
       "      <td>12</td>\n",
       "      <td>Situ</td>\n",
       "    </tr>\n",
       "    <tr>\n",
       "      <th>3591</th>\n",
       "      <td>1</td>\n",
       "      <td>Situ Lembang</td>\n",
       "      <td>Menteng</td>\n",
       "      <td>Jakarta Pusat</td>\n",
       "      <td>14.15</td>\n",
       "      <td>m2</td>\n",
       "      <td>3</td>\n",
       "      <td>0</td>\n",
       "      <td>Situ</td>\n",
       "    </tr>\n",
       "    <tr>\n",
       "      <th>5344</th>\n",
       "      <td>1</td>\n",
       "      <td>Situ Lembang</td>\n",
       "      <td>Menteng</td>\n",
       "      <td>Jakarta Pusat</td>\n",
       "      <td>14.15</td>\n",
       "      <td>m2</td>\n",
       "      <td>4</td>\n",
       "      <td>12</td>\n",
       "      <td>Situ</td>\n",
       "    </tr>\n",
       "    <tr>\n",
       "      <th>7097</th>\n",
       "      <td>1</td>\n",
       "      <td>Situ Lembang</td>\n",
       "      <td>Menteng</td>\n",
       "      <td>Jakarta Pusat</td>\n",
       "      <td>14.15</td>\n",
       "      <td>m2</td>\n",
       "      <td>5</td>\n",
       "      <td>12</td>\n",
       "      <td>Situ</td>\n",
       "    </tr>\n",
       "  </tbody>\n",
       "</table>\n",
       "</div>"
      ],
      "text/plain": [
       "      bulan  titik_lokasi kecamatan        wilayah panjang/luas  \\\n",
       "85        1  Situ Lembang   Menteng  Jakarta Pusat        14.15   \n",
       "1838      1  Situ Lembang   Menteng  Jakarta Pusat        14.15   \n",
       "3591      1  Situ Lembang   Menteng  Jakarta Pusat        14.15   \n",
       "5344      1  Situ Lembang   Menteng  Jakarta Pusat        14.15   \n",
       "7097      1  Situ Lembang   Menteng  Jakarta Pusat        14.15   \n",
       "\n",
       "     satuan_panjang/luas  tanggal volume_sampah_perhari(m3)  \\\n",
       "85                    m2        1                        12   \n",
       "1838                  m2        2                        12   \n",
       "3591                  m2        3                         0   \n",
       "5344                  m2        4                        12   \n",
       "7097                  m2        5                        12   \n",
       "\n",
       "     lokasi_penanganan_sampah  \n",
       "85                       Situ  \n",
       "1838                     Situ  \n",
       "3591                     Situ  \n",
       "5344                     Situ  \n",
       "7097                     Situ  "
      ]
     },
     "execution_count": 73,
     "metadata": {},
     "output_type": "execute_result"
    }
   ],
   "source": [
    "equal_2digit = df_m2['panjang/luas'].apply(lambda x: len(str(x).split('.')[0]) == 2)\n",
    "df_m2[equal_2digit].head()"
   ]
  },
  {
   "cell_type": "code",
   "execution_count": 74,
   "id": "c1051ab4-51ba-4754-a70a-7235acfc94c0",
   "metadata": {},
   "outputs": [
    {
     "data": {
      "text/html": [
       "<div>\n",
       "<style scoped>\n",
       "    .dataframe tbody tr th:only-of-type {\n",
       "        vertical-align: middle;\n",
       "    }\n",
       "\n",
       "    .dataframe tbody tr th {\n",
       "        vertical-align: top;\n",
       "    }\n",
       "\n",
       "    .dataframe thead th {\n",
       "        text-align: right;\n",
       "    }\n",
       "</style>\n",
       "<table border=\"1\" class=\"dataframe\">\n",
       "  <thead>\n",
       "    <tr style=\"text-align: right;\">\n",
       "      <th></th>\n",
       "      <th>titik_lokasi</th>\n",
       "      <th>kecamatan</th>\n",
       "      <th>panjang/luas</th>\n",
       "      <th>satuan_panjang/luas</th>\n",
       "      <th>lokasi_penanganan_sampah</th>\n",
       "    </tr>\n",
       "  </thead>\n",
       "  <tbody>\n",
       "    <tr>\n",
       "      <th>85</th>\n",
       "      <td>Situ Lembang</td>\n",
       "      <td>Menteng</td>\n",
       "      <td>14.15</td>\n",
       "      <td>m2</td>\n",
       "      <td>Situ</td>\n",
       "    </tr>\n",
       "  </tbody>\n",
       "</table>\n",
       "</div>"
      ],
      "text/plain": [
       "    titik_lokasi kecamatan panjang/luas satuan_panjang/luas  \\\n",
       "85  Situ Lembang   Menteng        14.15                  m2   \n",
       "\n",
       "   lokasi_penanganan_sampah  \n",
       "85                     Situ  "
      ]
     },
     "execution_count": 74,
     "metadata": {},
     "output_type": "execute_result"
    }
   ],
   "source": [
    "situ_m2 = df[(df['satuan_panjang/luas'] == 'm2') & (df['lokasi_penanganan_sampah'] == 'Situ')][['titik_lokasi', 'kecamatan', 'panjang/luas', 'satuan_panjang/luas', 'lokasi_penanganan_sampah']].drop_duplicates()\n",
    "situ_m2\n",
    "#13.288 m2 dr brosur"
   ]
  },
  {
   "cell_type": "code",
   "execution_count": 75,
   "id": "8ccf34bc-088f-4c31-811e-b6d56d5391d6",
   "metadata": {},
   "outputs": [
    {
     "data": {
      "text/html": [
       "<div>\n",
       "<style scoped>\n",
       "    .dataframe tbody tr th:only-of-type {\n",
       "        vertical-align: middle;\n",
       "    }\n",
       "\n",
       "    .dataframe tbody tr th {\n",
       "        vertical-align: top;\n",
       "    }\n",
       "\n",
       "    .dataframe thead th {\n",
       "        text-align: right;\n",
       "    }\n",
       "</style>\n",
       "<table border=\"1\" class=\"dataframe\">\n",
       "  <thead>\n",
       "    <tr style=\"text-align: right;\">\n",
       "      <th></th>\n",
       "      <th>titik_lokasi</th>\n",
       "      <th>kecamatan</th>\n",
       "      <th>wilayah</th>\n",
       "      <th>panjang/luas</th>\n",
       "      <th>satuan_panjang/luas</th>\n",
       "      <th>lokasi_penanganan_sampah</th>\n",
       "    </tr>\n",
       "  </thead>\n",
       "  <tbody>\n",
       "    <tr>\n",
       "      <th>98</th>\n",
       "      <td>Waduk Melati WM</td>\n",
       "      <td>Tanah Abang</td>\n",
       "      <td>Jakarta Pusat</td>\n",
       "      <td>6</td>\n",
       "      <td>m2</td>\n",
       "      <td>Waduk</td>\n",
       "    </tr>\n",
       "  </tbody>\n",
       "</table>\n",
       "</div>"
      ],
      "text/plain": [
       "       titik_lokasi    kecamatan        wilayah panjang/luas  \\\n",
       "98  Waduk Melati WM  Tanah Abang  Jakarta Pusat            6   \n",
       "\n",
       "   satuan_panjang/luas lokasi_penanganan_sampah  \n",
       "98                  m2                    Waduk  "
      ]
     },
     "execution_count": 75,
     "metadata": {},
     "output_type": "execute_result"
    }
   ],
   "source": [
    "waduk_m2 = df[(df['satuan_panjang/luas'] == 'm2') & (df['lokasi_penanganan_sampah'] == 'Waduk')][['titik_lokasi', 'kecamatan', 'wilayah', 'panjang/luas', 'satuan_panjang/luas', 'lokasi_penanganan_sampah']].drop_duplicates()\n",
    "waduk_m2\n",
    "#4.9 Ha dr brosur"
   ]
  },
  {
   "cell_type": "code",
   "execution_count": 76,
   "id": "784713f7-a9ea-4a3f-b602-494d57c1440c",
   "metadata": {},
   "outputs": [
    {
     "data": {
      "text/plain": [
       "0"
      ]
     },
     "execution_count": 76,
     "metadata": {},
     "output_type": "execute_result"
    }
   ],
   "source": [
    "#melihat jumlah panjang/luas dengan satuan m2, dimana value panjang/luas terdapat 2 misalnya (50/20)\n",
    "is_it_has = df_m2['panjang/luas'].str.contains('/')\n",
    "len(df_m2[is_it_has])"
   ]
  },
  {
   "cell_type": "code",
   "execution_count": 77,
   "id": "43933805-c5a0-4fc8-81aa-935b0fed7b5b",
   "metadata": {},
   "outputs": [
    {
     "data": {
      "text/plain": [
       "0"
      ]
     },
     "execution_count": 77,
     "metadata": {},
     "output_type": "execute_result"
    }
   ],
   "source": [
    "#melihat jumlah panjang/luas dengan satuan m3, dimana value panjang/luas melebihi 1 digit (>9.x), karena bisa jadi satuannya Ha,m2 atau m\n",
    "df_m3 = df[df['satuan_panjang/luas'] == 'm3']\n",
    "more_than_1digit = df_m3['panjang/luas'].apply(lambda x: len(str(x).split('.')[0]) > 1)\n",
    "len(df_m3[more_than_1digit])"
   ]
  },
  {
   "cell_type": "code",
   "execution_count": 78,
   "id": "3783600c-37be-40b5-8c94-d7bd7eb94df8",
   "metadata": {},
   "outputs": [
    {
     "data": {
      "text/html": [
       "<div>\n",
       "<style scoped>\n",
       "    .dataframe tbody tr th:only-of-type {\n",
       "        vertical-align: middle;\n",
       "    }\n",
       "\n",
       "    .dataframe tbody tr th {\n",
       "        vertical-align: top;\n",
       "    }\n",
       "\n",
       "    .dataframe thead th {\n",
       "        text-align: right;\n",
       "    }\n",
       "</style>\n",
       "<table border=\"1\" class=\"dataframe\">\n",
       "  <thead>\n",
       "    <tr style=\"text-align: right;\">\n",
       "      <th></th>\n",
       "      <th>titik_lokasi</th>\n",
       "      <th>kecamatan</th>\n",
       "      <th>wilayah</th>\n",
       "      <th>panjang/luas</th>\n",
       "      <th>satuan_panjang/luas</th>\n",
       "      <th>lokasi_penanganan_sampah</th>\n",
       "    </tr>\n",
       "  </thead>\n",
       "  <tbody>\n",
       "    <tr>\n",
       "      <th>56</th>\n",
       "      <td>Emplasment Pompa Cideng</td>\n",
       "      <td>Gambir</td>\n",
       "      <td>Jakarta Pusat</td>\n",
       "      <td>4</td>\n",
       "      <td>m3</td>\n",
       "      <td>Emplacement</td>\n",
       "    </tr>\n",
       "  </tbody>\n",
       "</table>\n",
       "</div>"
      ],
      "text/plain": [
       "               titik_lokasi kecamatan        wilayah panjang/luas  \\\n",
       "56  Emplasment Pompa Cideng    Gambir  Jakarta Pusat            4   \n",
       "\n",
       "   satuan_panjang/luas lokasi_penanganan_sampah  \n",
       "56                  m3              Emplacement  "
      ]
     },
     "execution_count": 78,
     "metadata": {},
     "output_type": "execute_result"
    }
   ],
   "source": [
    "emplacement_m3 = df[(df['satuan_panjang/luas'] == 'm3') & (df['lokasi_penanganan_sampah'] == 'Emplacement')][['titik_lokasi', 'kecamatan', 'wilayah', 'panjang/luas', 'satuan_panjang/luas', 'lokasi_penanganan_sampah']].drop_duplicates()\n",
    "emplacement_m3\n",
    "#1.433m rata-rata panjang emplasmen"
   ]
  },
  {
   "cell_type": "code",
   "execution_count": 79,
   "id": "9965c76d-07e3-44d0-9654-c8cf0fadefc1",
   "metadata": {},
   "outputs": [
    {
     "data": {
      "text/plain": [
       "0"
      ]
     },
     "execution_count": 79,
     "metadata": {},
     "output_type": "execute_result"
    }
   ],
   "source": [
    "#melihat jumlah panjang/luas dengan satuan m2, dimana value panjang/luas terdapat 2 misalnya (9/2.5)\n",
    "is_it_has = df_m3['panjang/luas'].str.contains('/')\n",
    "len(df_m3[is_it_has])"
   ]
  },
  {
   "cell_type": "code",
   "execution_count": 80,
   "id": "9bfe5302-21a4-406a-a965-20d4482697e5",
   "metadata": {},
   "outputs": [
    {
     "data": {
      "text/plain": [
       "0"
      ]
     },
     "execution_count": 80,
     "metadata": {},
     "output_type": "execute_result"
    }
   ],
   "source": [
    "#melihat jumlah panjang/luas dengan satuan km, dimana value panjang/luas melebihi 1 digit (>9.x), karena bisa jadi satuannya Ha,m2 atau m\n",
    "df_km = df[df['satuan_panjang/luas'] == 'km']\n",
    "more_than_1digit = df_km['panjang/luas'].apply(lambda x: len(str(x).split('.')[0]) > 1)\n",
    "len(df_km[more_than_1digit])"
   ]
  },
  {
   "cell_type": "code",
   "execution_count": 81,
   "id": "20ff5ee8-ab63-4455-b194-216c963f151c",
   "metadata": {},
   "outputs": [
    {
     "data": {
      "text/plain": [
       "0"
      ]
     },
     "execution_count": 81,
     "metadata": {},
     "output_type": "execute_result"
    }
   ],
   "source": [
    "#melihat jumlah panjang/luas dengan satuan km, dimana value panjang/luas terdapat 2 misalnya (9/2.5)\n",
    "is_it_has = df_km['panjang/luas'].str.contains('/')\n",
    "len(df_km[is_it_has])"
   ]
  },
  {
   "cell_type": "markdown",
   "id": "a390ca2e-9d3e-4dc9-8036-633a74e5f3d3",
   "metadata": {},
   "source": [
    "#### satuan_panjang/luas Column Exploration"
   ]
  },
  {
   "cell_type": "code",
   "execution_count": 83,
   "id": "46a6d396-f867-4ba3-b367-37b31688a49e",
   "metadata": {},
   "outputs": [
    {
     "data": {
      "text/html": [
       "<div>\n",
       "<style scoped>\n",
       "    .dataframe tbody tr th:only-of-type {\n",
       "        vertical-align: middle;\n",
       "    }\n",
       "\n",
       "    .dataframe tbody tr th {\n",
       "        vertical-align: top;\n",
       "    }\n",
       "\n",
       "    .dataframe thead th {\n",
       "        text-align: right;\n",
       "    }\n",
       "</style>\n",
       "<table border=\"1\" class=\"dataframe\">\n",
       "  <thead>\n",
       "    <tr style=\"text-align: right;\">\n",
       "      <th></th>\n",
       "      <th>bulan</th>\n",
       "      <th>titik_lokasi</th>\n",
       "      <th>kecamatan</th>\n",
       "      <th>wilayah</th>\n",
       "      <th>panjang/luas</th>\n",
       "      <th>satuan_panjang/luas</th>\n",
       "      <th>tanggal</th>\n",
       "      <th>volume_sampah_perhari(m3)</th>\n",
       "    </tr>\n",
       "  </thead>\n",
       "  <tbody>\n",
       "    <tr>\n",
       "      <th>24</th>\n",
       "      <td>1</td>\n",
       "      <td>PHB Cempaka Putih Indah</td>\n",
       "      <td>Cempaka Putih</td>\n",
       "      <td>Jakarta Pusat</td>\n",
       "      <td>210</td>\n",
       "      <td>m</td>\n",
       "      <td>1</td>\n",
       "      <td>-</td>\n",
       "    </tr>\n",
       "    <tr>\n",
       "      <th>25</th>\n",
       "      <td>1</td>\n",
       "      <td>PHB Cempaka Putih Barat 25</td>\n",
       "      <td>Cempaka Putih</td>\n",
       "      <td>Jakarta Pusat</td>\n",
       "      <td>220</td>\n",
       "      <td>m</td>\n",
       "      <td>1</td>\n",
       "      <td>-</td>\n",
       "    </tr>\n",
       "    <tr>\n",
       "      <th>26</th>\n",
       "      <td>1</td>\n",
       "      <td>PHB Suprapto Bea Cukai</td>\n",
       "      <td>Cempaka Putih</td>\n",
       "      <td>Jakarta Pusat</td>\n",
       "      <td>680</td>\n",
       "      <td>m</td>\n",
       "      <td>1</td>\n",
       "      <td>-</td>\n",
       "    </tr>\n",
       "    <tr>\n",
       "      <th>27</th>\n",
       "      <td>1</td>\n",
       "      <td>PHB Rawa Kerbau Cempaka Warna</td>\n",
       "      <td>Cempaka Putih</td>\n",
       "      <td>Jakarta Pusat</td>\n",
       "      <td>550</td>\n",
       "      <td>m</td>\n",
       "      <td>1</td>\n",
       "      <td>-</td>\n",
       "    </tr>\n",
       "    <tr>\n",
       "      <th>30</th>\n",
       "      <td>1</td>\n",
       "      <td>Kali / Sungai Ciliwung Ruas Belakang Kemenkeu</td>\n",
       "      <td>Gambir</td>\n",
       "      <td>Jakarta Pusat</td>\n",
       "      <td>1000</td>\n",
       "      <td>m</td>\n",
       "      <td>1</td>\n",
       "      <td>-</td>\n",
       "    </tr>\n",
       "  </tbody>\n",
       "</table>\n",
       "</div>"
      ],
      "text/plain": [
       "    bulan                                   titik_lokasi      kecamatan  \\\n",
       "24      1                        PHB Cempaka Putih Indah  Cempaka Putih   \n",
       "25      1                     PHB Cempaka Putih Barat 25  Cempaka Putih   \n",
       "26      1                         PHB Suprapto Bea Cukai  Cempaka Putih   \n",
       "27      1                  PHB Rawa Kerbau Cempaka Warna  Cempaka Putih   \n",
       "30      1  Kali / Sungai Ciliwung Ruas Belakang Kemenkeu         Gambir   \n",
       "\n",
       "          wilayah panjang/luas satuan_panjang/luas  tanggal  \\\n",
       "24  Jakarta Pusat          210                   m        1   \n",
       "25  Jakarta Pusat          220                   m        1   \n",
       "26  Jakarta Pusat          680                   m        1   \n",
       "27  Jakarta Pusat          550                   m        1   \n",
       "30  Jakarta Pusat         1000                   m        1   \n",
       "\n",
       "   volume_sampah_perhari(m3)  \n",
       "24                         -  \n",
       "25                         -  \n",
       "26                         -  \n",
       "27                         -  \n",
       "30                         -  "
      ]
     },
     "execution_count": 83,
     "metadata": {},
     "output_type": "execute_result"
    }
   ],
   "source": [
    "#menampilkan semua baris dimana volume_sampah_perhari(m3) memiliki garbage value\n",
    "df_cons_strip_vsp.head()"
   ]
  },
  {
   "cell_type": "code",
   "execution_count": 84,
   "id": "db09c06a-d09d-4a80-832d-ad2d56e31da7",
   "metadata": {},
   "outputs": [
    {
     "data": {
      "text/plain": [
       "<Axes: xlabel='volume_sampah_perhari(m3)', ylabel='Count'>"
      ]
     },
     "execution_count": 84,
     "metadata": {},
     "output_type": "execute_result"
    },
    {
     "data": {
      "image/png": "[encoded data removed]",
      "text/plain": [
       "<Figure size 640x480 with 1 Axes>"
      ]
     },
     "metadata": {},
     "output_type": "display_data"
    }
   ],
   "source": [
    "#melihat persebaran garbage value volume_sampah_perhari(m3)\n",
    "sns.histplot(df_cons_strip_vsp['volume_sampah_perhari(m3)'])"
   ]
  },
  {
   "cell_type": "markdown",
   "id": "d2659a91-ec67-46d1-bb88-b5a1e397f6bf",
   "metadata": {},
   "source": [
    "# Garbage and Noise Value Treatments Using Mode,Mean and Manual Fill"
   ]
  },
  {
   "cell_type": "markdown",
   "id": "d8cb51fa-2a2d-45bf-87fd-60403c51297f",
   "metadata": {},
   "source": [
    "#### panjang/luas Garbage and Noise Value Treatments"
   ]
  },
  {
   "cell_type": "markdown",
   "id": "31a4d37d-9c0b-4e68-b426-504e4ea913b4",
   "metadata": {},
   "source": [
    "##### 1. Mengupdate Garbage value"
   ]
  },
  {
   "cell_type": "markdown",
   "id": "beec94fb-9df9-4108-b4ed-f89f0dc3bd2e",
   "metadata": {},
   "source": [
    "###### 1.a. Mengupdate manual Garbage Value"
   ]
  },
  {
   "cell_type": "markdown",
   "id": "49098c20-3458-4e65-8307-20f13f718d7e",
   "metadata": {},
   "source": [
    "Keterangan isi manual (sumber internet) :\n",
    "\n",
    "PHB Tanah Merdeka = 426\n",
    "PHB Gang Sate = \n",
    "PHB Pos 5 = 608\n",
    "PHB Pintu Dua Pegangsaan Kel. Sukapura = 2000\n",
    "Inlet 1 Waduk Rawa Badak = 100\n",
    "Inlet 2 Waduk Rawa Badak = 100\n",
    "PHB PIK = 3099\n",
    "PHB Vikamas = 300\n",
    "PHB Muara Karang Selatan = 1098\n",
    "Kali Besar Kel. Penjaringan = \n",
    "Saringan Meh Perintis Kemerdekaan UPK Badan Air = 400 (rata-rata panjang saringan sampah)\n"
   ]
  },
  {
   "cell_type": "code",
   "execution_count": 90,
   "id": "c1067656-9d62-4414-98ff-996edbcba6e6",
   "metadata": {},
   "outputs": [
    {
     "data": {
      "text/plain": [
       "0        -\n",
       "1      400\n",
       "2    400/8\n",
       "Name: panjang/luas, dtype: object"
      ]
     },
     "execution_count": 90,
     "metadata": {},
     "output_type": "execute_result"
    }
   ],
   "source": [
    "df[df['lokasi_penanganan_sampah'] == 'Saringan']['panjang/luas'].mode()"
   ]
  },
  {
   "cell_type": "code",
   "execution_count": 91,
   "id": "405a2f8b-a803-4d6a-a4f4-977dcfcf3dd9",
   "metadata": {},
   "outputs": [
    {
     "name": "stdout",
     "output_type": "stream",
     "text": [
      "PHB Tanah Merdeka: 31\n",
      "PHB Pos 5: 31\n",
      "PHB Pintu Dua Pegangsaan Kel. Sukapura: 31\n",
      "Inlet 1 Waduk Rawa Badak: 31\n",
      "Inlet 2 Waduk Rawa Badak: 31\n",
      "PHB PIK: 31\n",
      "PHB Vikamas: 31\n",
      "PHB Muara Karang Selatan: 31\n",
      "Saringan Meh Perintis Kemerdekaan UPK Badan Air: 31\n"
     ]
    }
   ],
   "source": [
    "#mengganti garbage value secara manual dengan mencari data terkait panjang/luas titik lokasi\n",
    "locations_to_update = {\n",
    "    'PHB Tanah Merdeka': 426,\n",
    "    'PHB Pos 5': 608,\n",
    "    'PHB Pintu Dua Pegangsaan Kel. Sukapura': 2000,\n",
    "    'Inlet 1 Waduk Rawa Badak': 100,\n",
    "    'Inlet 2 Waduk Rawa Badak': 100,\n",
    "    'PHB PIK': 3099,\n",
    "    'PHB Vikamas': 300,\n",
    "    'PHB Muara Karang Selatan':1098,\n",
    "    'Saringan Meh Perintis Kemerdekaan UPK Badan Air': 400\n",
    "}\n",
    "for lokasi, panjang_luas in locations_to_update.items():\n",
    "    df.loc[df['titik_lokasi'] == lokasi, 'panjang/luas'] = panjang_luas\n",
    "    print(f\"{lokasi}: {len(df[df['titik_lokasi'] == lokasi])}\")"
   ]
  },
  {
   "cell_type": "code",
   "execution_count": 92,
   "id": "6b2462f7-00b8-4bf1-8d45-6f3e71aa171c",
   "metadata": {},
   "outputs": [
    {
     "name": "stdout",
     "output_type": "stream",
     "text": [
      "       bulan                 titik_lokasi    kecamatan        wilayah  \\\n",
      "171        1                PHB Gang Sate    Cilincing  Jakarta Utara   \n",
      "483        1  Kali Besar Kel. Penjaringan  Penjaringan  Jakarta Utara   \n",
      "1924       1                PHB Gang Sate    Cilincing  Jakarta Utara   \n",
      "2236       1  Kali Besar Kel. Penjaringan  Penjaringan  Jakarta Utara   \n",
      "3677       1                PHB Gang Sate    Cilincing  Jakarta Utara   \n",
      "...      ...                          ...          ...            ...   \n",
      "49567      1  Kali Besar Kel. Penjaringan  Penjaringan  Jakarta Utara   \n",
      "51008      1                PHB Gang Sate    Cilincing  Jakarta Utara   \n",
      "51320      1  Kali Besar Kel. Penjaringan  Penjaringan  Jakarta Utara   \n",
      "52761      1                PHB Gang Sate    Cilincing  Jakarta Utara   \n",
      "53073      1  Kali Besar Kel. Penjaringan  Penjaringan  Jakarta Utara   \n",
      "\n",
      "      panjang/luas satuan_panjang/luas  tanggal volume_sampah_perhari(m3)  \\\n",
      "171         Oct-00                 NaN        1                         0   \n",
      "483         Oct-00                 NaN        1                         0   \n",
      "1924        Oct-00                 NaN        2                         0   \n",
      "2236        Oct-00                 NaN        2                         0   \n",
      "3677        Oct-00                 NaN        3                         0   \n",
      "...            ...                 ...      ...                       ...   \n",
      "49567       Oct-00                 NaN       29                         0   \n",
      "51008       Oct-00                 NaN       30                         0   \n",
      "51320       Oct-00                 NaN       30                         0   \n",
      "52761       Oct-00                 NaN       31                         0   \n",
      "53073       Oct-00                 NaN       31                         0   \n",
      "\n",
      "      lokasi_penanganan_sampah  \n",
      "171                        PHB  \n",
      "483                       Kali  \n",
      "1924                       PHB  \n",
      "2236                      Kali  \n",
      "3677                       PHB  \n",
      "...                        ...  \n",
      "49567                     Kali  \n",
      "51008                      PHB  \n",
      "51320                     Kali  \n",
      "52761                      PHB  \n",
      "53073                     Kali  \n",
      "\n",
      "[62 rows x 9 columns]\n"
     ]
    }
   ],
   "source": [
    "#mengidentifikasi sisa garbage value pada kolom panjang/luas\n",
    "df_cons_strip_pl = df[\n",
    "    (df['panjang/luas'].str.contains('-', na=False)) | \n",
    "    (df['panjang/luas'].str.contains('—', na=False))\n",
    "]\n",
    "print(df_cons_strip_pl)"
   ]
  },
  {
   "cell_type": "markdown",
   "id": "d4929535-5d1a-409d-9540-14e22298a9cf",
   "metadata": {},
   "source": [
    "###### 1.b. Mengupdate Garbage Value dengan nilai modulus pada panjang/luas berdasarkan lokasi_penanganan_sampah"
   ]
  },
  {
   "cell_type": "code",
   "execution_count": 94,
   "id": "f7d27d82-298f-4a93-b461-9adb247888c1",
   "metadata": {},
   "outputs": [
    {
     "name": "stdout",
     "output_type": "stream",
     "text": [
      "171       500\n",
      "483      1000\n",
      "1924      500\n",
      "2236     1000\n",
      "3677      500\n",
      "         ... \n",
      "49567    1000\n",
      "51008     500\n",
      "51320    1000\n",
      "52761     500\n",
      "53073    1000\n",
      "Name: panjang/luas, Length: 62, dtype: object\n"
     ]
    },
    {
     "name": "stderr",
     "output_type": "stream",
     "text": [
      "C:\\Users\\user\\AppData\\Local\\Temp\\ipykernel_12648\\3549900973.py:2: UserWarning: Unable to sort modes: '<' not supported between instances of 'int' and 'str'\n",
      "  df.loc[df_cons_strip_pl.index, 'panjang/luas'] = df.groupby('lokasi_penanganan_sampah')['panjang/luas'].transform(lambda x: x.mode().iloc[0] if not x.mode().empty else None)\n"
     ]
    }
   ],
   "source": [
    "#mengganti garbage value yang belum didapatkan dengan modulus value panjang/luas berdasarkan lokasi_penanganan_sampah\n",
    "df.loc[df_cons_strip_pl.index, 'panjang/luas'] = df.groupby('lokasi_penanganan_sampah')['panjang/luas'].transform(lambda x: x.mode().iloc[0] if not x.mode().empty else None)\n",
    "print(df.loc[df_cons_strip_pl.index, 'panjang/luas'])"
   ]
  },
  {
   "cell_type": "markdown",
   "id": "9d4d4b4b-6080-4bd7-b524-ac4951570942",
   "metadata": {},
   "source": [
    "##### 2. Mengupdate Noise value (contains '/')"
   ]
  },
  {
   "cell_type": "code",
   "execution_count": 97,
   "id": "8d4e27a3-0f49-4b56-9716-52e5a89fd712",
   "metadata": {},
   "outputs": [],
   "source": [
    "#mengambil value pada sebelah kiri '/'\n",
    "df['panjang/luas'] = df['panjang/luas'].str.split('/').str[0]"
   ]
  },
  {
   "cell_type": "markdown",
   "id": "72957c78-18fb-412c-81c9-545330bbf17b",
   "metadata": {},
   "source": [
    "##### 3. Mengupdate Noise value (contains 'm')"
   ]
  },
  {
   "cell_type": "code",
   "execution_count": 99,
   "id": "014077b6-e9dc-4bce-aecf-63e52e02fccc",
   "metadata": {},
   "outputs": [],
   "source": [
    "#mengambil value pada sebelah kiri 'm'\n",
    "df['panjang/luas'] = df['panjang/luas'].str.split('m').str[0]"
   ]
  },
  {
   "cell_type": "markdown",
   "id": "b8885e5a-61f3-406a-895b-e54edae3a966",
   "metadata": {},
   "source": [
    "##### 4. Mengupdate Noise value (contains 'Ha')"
   ]
  },
  {
   "cell_type": "code",
   "execution_count": 101,
   "id": "1900019f",
   "metadata": {},
   "outputs": [],
   "source": [
    "#mengambil value pada sebelah kiri 'Ha'\n",
    "df['panjang/luas'] = df['panjang/luas'].str.split('Ha').str[0]"
   ]
  },
  {
   "cell_type": "code",
   "execution_count": 102,
   "id": "cb016cd8-bba9-4be8-b757-482e6b4fa469",
   "metadata": {},
   "outputs": [
    {
     "data": {
      "text/html": [
       "<div>\n",
       "<style scoped>\n",
       "    .dataframe tbody tr th:only-of-type {\n",
       "        vertical-align: middle;\n",
       "    }\n",
       "\n",
       "    .dataframe tbody tr th {\n",
       "        vertical-align: top;\n",
       "    }\n",
       "\n",
       "    .dataframe thead th {\n",
       "        text-align: right;\n",
       "    }\n",
       "</style>\n",
       "<table border=\"1\" class=\"dataframe\">\n",
       "  <thead>\n",
       "    <tr style=\"text-align: right;\">\n",
       "      <th></th>\n",
       "      <th>titik_lokasi</th>\n",
       "      <th>kecamatan</th>\n",
       "      <th>wilayah</th>\n",
       "      <th>panjang/luas</th>\n",
       "      <th>satuan_panjang/luas</th>\n",
       "      <th>volume_sampah_perhari(m3)</th>\n",
       "      <th>lokasi_penanganan_sampah</th>\n",
       "    </tr>\n",
       "  </thead>\n",
       "  <tbody>\n",
       "    <tr>\n",
       "      <th>count</th>\n",
       "      <td>54343</td>\n",
       "      <td>54343</td>\n",
       "      <td>54343</td>\n",
       "      <td>53196</td>\n",
       "      <td>32388</td>\n",
       "      <td>54343</td>\n",
       "      <td>54343</td>\n",
       "    </tr>\n",
       "    <tr>\n",
       "      <th>unique</th>\n",
       "      <td>1747</td>\n",
       "      <td>42</td>\n",
       "      <td>5</td>\n",
       "      <td>263</td>\n",
       "      <td>5</td>\n",
       "      <td>59</td>\n",
       "      <td>32</td>\n",
       "    </tr>\n",
       "    <tr>\n",
       "      <th>top</th>\n",
       "      <td>Saluran PHB Asem</td>\n",
       "      <td>Kalideres</td>\n",
       "      <td>Jakarta Barat</td>\n",
       "      <td>1000</td>\n",
       "      <td>m</td>\n",
       "      <td>-</td>\n",
       "      <td>Kali</td>\n",
       "    </tr>\n",
       "    <tr>\n",
       "      <th>freq</th>\n",
       "      <td>62</td>\n",
       "      <td>2914</td>\n",
       "      <td>16430</td>\n",
       "      <td>8403</td>\n",
       "      <td>30745</td>\n",
       "      <td>15649</td>\n",
       "      <td>22227</td>\n",
       "    </tr>\n",
       "  </tbody>\n",
       "</table>\n",
       "</div>"
      ],
      "text/plain": [
       "            titik_lokasi  kecamatan        wilayah panjang/luas  \\\n",
       "count              54343      54343          54343        53196   \n",
       "unique              1747         42              5          263   \n",
       "top     Saluran PHB Asem  Kalideres  Jakarta Barat         1000   \n",
       "freq                  62       2914          16430         8403   \n",
       "\n",
       "       satuan_panjang/luas volume_sampah_perhari(m3) lokasi_penanganan_sampah  \n",
       "count                32388                     54343                    54343  \n",
       "unique                   5                        59                       32  \n",
       "top                      m                         -                     Kali  \n",
       "freq                 30745                     15649                    22227  "
      ]
     },
     "execution_count": 102,
     "metadata": {},
     "output_type": "execute_result"
    }
   ],
   "source": [
    "df.describe(include=\"object\")"
   ]
  },
  {
   "cell_type": "markdown",
   "id": "462c5e14-9749-4417-9e26-32559bd1958b",
   "metadata": {},
   "source": [
    "#### satuan_panjang/luas Noise Value Treatments"
   ]
  },
  {
   "cell_type": "code",
   "execution_count": 104,
   "id": "40bb9aad-4fbb-4473-a904-d7d80bdb670b",
   "metadata": {},
   "outputs": [
    {
     "name": "stdout",
     "output_type": "stream",
     "text": [
      "745      km\n",
      "2449     km\n",
      "2450     km\n",
      "2451     km\n",
      "2452     km\n",
      "         ..\n",
      "53298    km\n",
      "53300    km\n",
      "53301    km\n",
      "53302    km\n",
      "53335    km\n",
      "Name: satuan_panjang/luas, Length: 331, dtype: object\n"
     ]
    }
   ],
   "source": [
    "#mengganti value satuan_panjang/luas m2 dimana value panjang/luas kurang dari 2 digit menjadi km\n",
    "df.loc[df_m[less_than_2digit].index, 'satuan_panjang/luas'] = 'km'\n",
    "print(df.loc[df_m[less_than_2digit].index, 'satuan_panjang/luas'])"
   ]
  },
  {
   "cell_type": "code",
   "execution_count": 105,
   "id": "978e02f2-a90e-42c3-937f-6b393018196b",
   "metadata": {},
   "outputs": [
    {
     "name": "stdout",
     "output_type": "stream",
     "text": [
      "31\n"
     ]
    }
   ],
   "source": [
    "#mengganti value satuan_panjang/luas m dimana value panjang/luas tidak sesuai menjadi Ha\n",
    "df.loc[(df['titik_lokasi'] == 'Waduk Melati WM') & (df['panjang/luas'].apply(lambda x: len(str(x).split('.')[0]) < 2)), 'satuan_panjang/luas'] = 'Ha'\n",
    "print(len(df.loc[df['titik_lokasi'] == 'Waduk Melati WM', ['panjang/luas', 'satuan_panjang/luas']]))"
   ]
  },
  {
   "cell_type": "markdown",
   "id": "fe2d940e-9def-446b-9858-72e9ee0f11da",
   "metadata": {},
   "source": [
    "#### volume_sampah_perhari(m3) Noise Value Treatments"
   ]
  },
  {
   "cell_type": "markdown",
   "id": "8b9df2f1-87a4-4b2e-953f-9d7c367f0bab",
   "metadata": {},
   "source": [
    "##### 1. unidentified fonts noise"
   ]
  },
  {
   "cell_type": "code",
   "execution_count": 108,
   "id": "2ff8dd42-47af-44fd-8de3-cae89a3ef8e7",
   "metadata": {},
   "outputs": [
    {
     "name": "stdout",
     "output_type": "stream",
     "text": [
      "46881    0.5\n",
      "Name: volume_sampah_perhari(m3), dtype: object\n"
     ]
    }
   ],
   "source": [
    "# Mengganti value O.5 (font asing) dengan value '0.5' pada kolom 'volume_sampah_perhari(m3)'\n",
    "df_cons_unidentified_font = df['volume_sampah_perhari(m3)'] == 'O.5'\n",
    "df.loc[df_cons_unidentified_font, 'volume_sampah_perhari(m3)'] = '0.5'\n",
    "print(df.loc[df_cons_unidentified_font, 'volume_sampah_perhari(m3)'])"
   ]
  },
  {
   "cell_type": "markdown",
   "id": "980a09ed-3592-46cf-81f4-2b83ab2e6795",
   "metadata": {},
   "source": [
    "##### 2. space noise"
   ]
  },
  {
   "cell_type": "code",
   "execution_count": 110,
   "id": "fe5a22e1-f024-41b0-8fb8-2983bdc08ac3",
   "metadata": {},
   "outputs": [
    {
     "name": "stdout",
     "output_type": "stream",
     "text": [
      "590      -\n",
      "7333     -\n",
      "35668    -\n",
      "Name: volume_sampah_perhari(m3), dtype: object\n"
     ]
    }
   ],
   "source": [
    "# Mengganti value spasi(' ') dengan value - pada kolom 'volume_sampah_perhari(m3)'\n",
    "df_cons_space = df['volume_sampah_perhari(m3)'] == ' '\n",
    "df.loc[df_cons_space, 'volume_sampah_perhari(m3)'] = '-'\n",
    "print(df.loc[df_cons_space, 'volume_sampah_perhari(m3)'])"
   ]
  },
  {
   "cell_type": "markdown",
   "id": "05859e80-6ee8-4c0c-af80-87a7dab4be3f",
   "metadata": {},
   "source": [
    "# Missing Value Treatments using Mode, Manual Fill for panjang/luas column, and Most Frequent Unit for satuan_panjang/luas and using KNN for volume_sampah_perhari(m3)"
   ]
  },
  {
   "cell_type": "markdown",
   "id": "3701ae61-e153-4b63-94ef-ae271ac840e9",
   "metadata": {},
   "source": [
    "#### panjang/luas Missing Value Treatments"
   ]
  },
  {
   "cell_type": "code",
   "execution_count": 113,
   "id": "77b02366-edad-4679-8076-261462fce144",
   "metadata": {},
   "outputs": [
    {
     "name": "stdout",
     "output_type": "stream",
     "text": [
      "71       400\n",
      "87       400\n",
      "170      400\n",
      "174      400\n",
      "186      400\n",
      "        ... \n",
      "54107    400\n",
      "54108    400\n",
      "54109    400\n",
      "54110    400\n",
      "54269    400\n",
      "Name: panjang/luas, Length: 1147, dtype: object\n"
     ]
    }
   ],
   "source": [
    "#karena titik_lokasi yang memiliki panjang/luas NaN semuanya adalah Saringan sampah, maka gunakan rata-rata atau modulus terbanyak saringan yaitu 400\n",
    "df_null_pl = df[df['panjang/luas'].isnull()]\n",
    "df.loc[df_null_pl.index, 'panjang/luas'] = '400'\n",
    "print(df.loc[df_null_pl.index, 'panjang/luas'])"
   ]
  },
  {
   "cell_type": "markdown",
   "id": "196f46a2-aa62-4000-ba94-45d9f8b3fe20",
   "metadata": {},
   "source": [
    "#### satuan_panjang/luas Missing Value Treatments"
   ]
  },
  {
   "cell_type": "code",
   "execution_count": 115,
   "id": "1273bbfe-4c60-4bc6-992f-85d426a62925",
   "metadata": {},
   "outputs": [
    {
     "name": "stdout",
     "output_type": "stream",
     "text": [
      "21955\n"
     ]
    }
   ],
   "source": [
    "#mengelompokan null value satuan_panjang/luas\n",
    "df_null_spl = df[df['satuan_panjang/luas'].isnull()]\n",
    "print(len(df_null_spl))"
   ]
  },
  {
   "cell_type": "code",
   "execution_count": 116,
   "id": "4f1bc92d-ac5d-454c-8140-d2eaa2b06bd0",
   "metadata": {},
   "outputs": [
    {
     "name": "stdout",
     "output_type": "stream",
     "text": [
      "71       m\n",
      "87       m\n",
      "152      m\n",
      "153      m\n",
      "154      m\n",
      "        ..\n",
      "54107    m\n",
      "54108    m\n",
      "54109    m\n",
      "54110    m\n",
      "54269    m\n",
      "Name: satuan_panjang/luas, Length: 21322, dtype: object\n"
     ]
    }
   ],
   "source": [
    "#jika null value memiliki panjang/luas lebih dari 2 digit maka null value di isi dengan satuan m\n",
    "more_than_2digit_null = df_null_spl['panjang/luas'].apply(lambda x: len(str(x).split('.')[0]) > 2)\n",
    "df.loc[df_null_spl[more_than_2digit_null].index, 'satuan_panjang/luas'] = 'm'\n",
    "print(df.loc[df_null_spl[more_than_2digit_null].index, 'satuan_panjang/luas'])"
   ]
  },
  {
   "cell_type": "code",
   "execution_count": 117,
   "id": "aa5d5fb1-52ec-4019-b4f6-53600050b90b",
   "metadata": {},
   "outputs": [
    {
     "data": {
      "text/html": [
       "<div>\n",
       "<style scoped>\n",
       "    .dataframe tbody tr th:only-of-type {\n",
       "        vertical-align: middle;\n",
       "    }\n",
       "\n",
       "    .dataframe tbody tr th {\n",
       "        vertical-align: top;\n",
       "    }\n",
       "\n",
       "    .dataframe thead th {\n",
       "        text-align: right;\n",
       "    }\n",
       "</style>\n",
       "<table border=\"1\" class=\"dataframe\">\n",
       "  <thead>\n",
       "    <tr style=\"text-align: right;\">\n",
       "      <th></th>\n",
       "      <th>titik_lokasi</th>\n",
       "      <th>kecamatan</th>\n",
       "      <th>wilayah</th>\n",
       "      <th>panjang/luas</th>\n",
       "      <th>lokasi_penanganan_sampah</th>\n",
       "    </tr>\n",
       "  </thead>\n",
       "  <tbody>\n",
       "    <tr>\n",
       "      <th>312</th>\n",
       "      <td>Kali Lagoa Kanal Saringan JICT</td>\n",
       "      <td>Koja</td>\n",
       "      <td>Jakarta Utara</td>\n",
       "      <td>50</td>\n",
       "      <td>Kali</td>\n",
       "    </tr>\n",
       "    <tr>\n",
       "      <th>1218</th>\n",
       "      <td>Waduk Timur Setiabudi</td>\n",
       "      <td>Setiabudi</td>\n",
       "      <td>Jakarta Selatan</td>\n",
       "      <td>1</td>\n",
       "      <td>Waduk</td>\n",
       "    </tr>\n",
       "    <tr>\n",
       "      <th>1220</th>\n",
       "      <td>Waduk Barat Setiabudi</td>\n",
       "      <td>Setiabudi</td>\n",
       "      <td>Jakarta Selatan</td>\n",
       "      <td>1</td>\n",
       "      <td>Waduk</td>\n",
       "    </tr>\n",
       "    <tr>\n",
       "      <th>2470</th>\n",
       "      <td>Kali Pesanggrahan ( Jln. Pos Pengumben Raya - ...</td>\n",
       "      <td>Kebon Jeruk</td>\n",
       "      <td>Jakarta Barat</td>\n",
       "      <td>1.82</td>\n",
       "      <td>Kali</td>\n",
       "    </tr>\n",
       "    <tr>\n",
       "      <th>2471</th>\n",
       "      <td>Kali Pesanggrahan (Jln. H. Kelik Hutan Kota Sr...</td>\n",
       "      <td>Kebon Jeruk</td>\n",
       "      <td>Jakarta Barat</td>\n",
       "      <td>1.2</td>\n",
       "      <td>Kali</td>\n",
       "    </tr>\n",
       "    <tr>\n",
       "      <th>2472</th>\n",
       "      <td>Kali Pesanggrahan ( Komplek Villa Arteri Kebon...</td>\n",
       "      <td>Kebon Jeruk</td>\n",
       "      <td>Jakarta Barat</td>\n",
       "      <td>1.35</td>\n",
       "      <td>Kali</td>\n",
       "    </tr>\n",
       "    <tr>\n",
       "      <th>2473</th>\n",
       "      <td>Kali Pesanggrahan ( Pintu Air Kedoya Selatan -...</td>\n",
       "      <td>Kebon Jeruk</td>\n",
       "      <td>Jakarta Barat</td>\n",
       "      <td>1.3</td>\n",
       "      <td>Kali</td>\n",
       "    </tr>\n",
       "    <tr>\n",
       "      <th>2474</th>\n",
       "      <td>Kali Pesanggrahan ( Perumahan Weslling Jln. Ga...</td>\n",
       "      <td>Kebon Jeruk</td>\n",
       "      <td>Jakarta Barat</td>\n",
       "      <td>1.3</td>\n",
       "      <td>Kali</td>\n",
       "    </tr>\n",
       "    <tr>\n",
       "      <th>2476</th>\n",
       "      <td>Kali Saluran PHB.Komplek Green Garden (Jln. Ba...</td>\n",
       "      <td>Kebon Jeruk</td>\n",
       "      <td>Jakarta Barat</td>\n",
       "      <td>2.7</td>\n",
       "      <td>Kali</td>\n",
       "    </tr>\n",
       "    <tr>\n",
       "      <th>2477</th>\n",
       "      <td>Kali Saluran PHB. Al Kamal (Masjid Al Kamal Jl...</td>\n",
       "      <td>Kebon Jeruk</td>\n",
       "      <td>Jakarta Barat</td>\n",
       "      <td>1.55</td>\n",
       "      <td>Kali</td>\n",
       "    </tr>\n",
       "    <tr>\n",
       "      <th>2478</th>\n",
       "      <td>Kali Anak Pesanggrahan Pintu Air Kedoya Selata...</td>\n",
       "      <td>Kebon Jeruk</td>\n",
       "      <td>Jakarta Barat</td>\n",
       "      <td>1.36</td>\n",
       "      <td>Kali</td>\n",
       "    </tr>\n",
       "    <tr>\n",
       "      <th>2479</th>\n",
       "      <td>Stasiun Pompa Air ( Saluran PHB. Kebon Raya da...</td>\n",
       "      <td>Kebon Jeruk</td>\n",
       "      <td>Jakarta Barat</td>\n",
       "      <td>1.1</td>\n",
       "      <td>Stasiun</td>\n",
       "    </tr>\n",
       "    <tr>\n",
       "      <th>2480</th>\n",
       "      <td>Stasiun Pompa Air ( Saluran PHB. Mangga Raya )</td>\n",
       "      <td>Kebon Jeruk</td>\n",
       "      <td>Jakarta Barat</td>\n",
       "      <td>1.8</td>\n",
       "      <td>Stasiun</td>\n",
       "    </tr>\n",
       "    <tr>\n",
       "      <th>2483</th>\n",
       "      <td>Stasiun Pompa Air Saluran PHB. Taman Ratu Dan ...</td>\n",
       "      <td>Kebon Jeruk</td>\n",
       "      <td>Jakarta Barat</td>\n",
       "      <td>1.45</td>\n",
       "      <td>Stasiun</td>\n",
       "    </tr>\n",
       "    <tr>\n",
       "      <th>2484</th>\n",
       "      <td>Saluran PHB. Cosmos Atas Dan Saluran Phb Cosmo...</td>\n",
       "      <td>Kebon Jeruk</td>\n",
       "      <td>Jakarta Barat</td>\n",
       "      <td>1.8</td>\n",
       "      <td>Saluran</td>\n",
       "    </tr>\n",
       "    <tr>\n",
       "      <th>2485</th>\n",
       "      <td>Saluran PHB. Kedoya Utara ( Jln. Panjang Depan...</td>\n",
       "      <td>Kebon Jeruk</td>\n",
       "      <td>Jakarta Barat</td>\n",
       "      <td>1.1</td>\n",
       "      <td>Saluran</td>\n",
       "    </tr>\n",
       "    <tr>\n",
       "      <th>2486</th>\n",
       "      <td>Saluran PHB. Angsana ( Jln. Taman Kedoya Baru ...</td>\n",
       "      <td>Kebon Jeruk</td>\n",
       "      <td>Jakarta Barat</td>\n",
       "      <td>1.2</td>\n",
       "      <td>Saluran</td>\n",
       "    </tr>\n",
       "    <tr>\n",
       "      <th>2487</th>\n",
       "      <td>Saluran PHB. Bedek</td>\n",
       "      <td>Kebon Jeruk</td>\n",
       "      <td>Jakarta Barat</td>\n",
       "      <td>1.75</td>\n",
       "      <td>Saluran</td>\n",
       "    </tr>\n",
       "    <tr>\n",
       "      <th>2488</th>\n",
       "      <td>PHB. Adhikarya Jln.Adhikarya Kedoya Selatan</td>\n",
       "      <td>Kebon Jeruk</td>\n",
       "      <td>Jakarta Barat</td>\n",
       "      <td>1.102</td>\n",
       "      <td>PHB</td>\n",
       "    </tr>\n",
       "    <tr>\n",
       "      <th>2489</th>\n",
       "      <td>Saluran PHB. Mangga 17</td>\n",
       "      <td>Kebon Jeruk</td>\n",
       "      <td>Jakarta Barat</td>\n",
       "      <td>1</td>\n",
       "      <td>Saluran</td>\n",
       "    </tr>\n",
       "    <tr>\n",
       "      <th>2490</th>\n",
       "      <td>Saluran PHB. Mangga 18</td>\n",
       "      <td>Kebon Jeruk</td>\n",
       "      <td>Jakarta Barat</td>\n",
       "      <td>1.2</td>\n",
       "      <td>Saluran</td>\n",
       "    </tr>\n",
       "  </tbody>\n",
       "</table>\n",
       "</div>"
      ],
      "text/plain": [
       "                                           titik_lokasi    kecamatan  \\\n",
       "312                      Kali Lagoa Kanal Saringan JICT         Koja   \n",
       "1218                              Waduk Timur Setiabudi    Setiabudi   \n",
       "1220                              Waduk Barat Setiabudi    Setiabudi   \n",
       "2470  Kali Pesanggrahan ( Jln. Pos Pengumben Raya - ...  Kebon Jeruk   \n",
       "2471  Kali Pesanggrahan (Jln. H. Kelik Hutan Kota Sr...  Kebon Jeruk   \n",
       "2472  Kali Pesanggrahan ( Komplek Villa Arteri Kebon...  Kebon Jeruk   \n",
       "2473  Kali Pesanggrahan ( Pintu Air Kedoya Selatan -...  Kebon Jeruk   \n",
       "2474  Kali Pesanggrahan ( Perumahan Weslling Jln. Ga...  Kebon Jeruk   \n",
       "2476  Kali Saluran PHB.Komplek Green Garden (Jln. Ba...  Kebon Jeruk   \n",
       "2477  Kali Saluran PHB. Al Kamal (Masjid Al Kamal Jl...  Kebon Jeruk   \n",
       "2478  Kali Anak Pesanggrahan Pintu Air Kedoya Selata...  Kebon Jeruk   \n",
       "2479  Stasiun Pompa Air ( Saluran PHB. Kebon Raya da...  Kebon Jeruk   \n",
       "2480     Stasiun Pompa Air ( Saluran PHB. Mangga Raya )  Kebon Jeruk   \n",
       "2483  Stasiun Pompa Air Saluran PHB. Taman Ratu Dan ...  Kebon Jeruk   \n",
       "2484  Saluran PHB. Cosmos Atas Dan Saluran Phb Cosmo...  Kebon Jeruk   \n",
       "2485  Saluran PHB. Kedoya Utara ( Jln. Panjang Depan...  Kebon Jeruk   \n",
       "2486  Saluran PHB. Angsana ( Jln. Taman Kedoya Baru ...  Kebon Jeruk   \n",
       "2487                                 Saluran PHB. Bedek  Kebon Jeruk   \n",
       "2488        PHB. Adhikarya Jln.Adhikarya Kedoya Selatan  Kebon Jeruk   \n",
       "2489                             Saluran PHB. Mangga 17  Kebon Jeruk   \n",
       "2490                             Saluran PHB. Mangga 18  Kebon Jeruk   \n",
       "\n",
       "              wilayah panjang/luas lokasi_penanganan_sampah  \n",
       "312     Jakarta Utara           50                     Kali  \n",
       "1218  Jakarta Selatan            1                    Waduk  \n",
       "1220  Jakarta Selatan            1                    Waduk  \n",
       "2470    Jakarta Barat         1.82                     Kali  \n",
       "2471    Jakarta Barat          1.2                     Kali  \n",
       "2472    Jakarta Barat         1.35                     Kali  \n",
       "2473    Jakarta Barat          1.3                     Kali  \n",
       "2474    Jakarta Barat          1.3                     Kali  \n",
       "2476    Jakarta Barat          2.7                     Kali  \n",
       "2477    Jakarta Barat         1.55                     Kali  \n",
       "2478    Jakarta Barat         1.36                     Kali  \n",
       "2479    Jakarta Barat          1.1                  Stasiun  \n",
       "2480    Jakarta Barat          1.8                  Stasiun  \n",
       "2483    Jakarta Barat         1.45                  Stasiun  \n",
       "2484    Jakarta Barat          1.8                  Saluran  \n",
       "2485    Jakarta Barat          1.1                  Saluran  \n",
       "2486    Jakarta Barat          1.2                  Saluran  \n",
       "2487    Jakarta Barat         1.75                  Saluran  \n",
       "2488    Jakarta Barat        1.102                      PHB  \n",
       "2489    Jakarta Barat            1                  Saluran  \n",
       "2490    Jakarta Barat          1.2                  Saluran  "
      ]
     },
     "execution_count": 117,
     "metadata": {},
     "output_type": "execute_result"
    }
   ],
   "source": [
    "#melihat missing value pada satuan_panjang/luas\n",
    "#melihat lokasi yang terdapat missing value pada  panjang/luas\n",
    "null_lokasi = df[df['satuan_panjang/luas'].isnull()][['titik_lokasi', 'kecamatan', 'wilayah', 'panjang/luas','lokasi_penanganan_sampah']].drop_duplicates()\n",
    "null_lokasi.head(21)"
   ]
  },
  {
   "cell_type": "code",
   "execution_count": 118,
   "id": "c1b5fc49-295d-4562-b0ac-e929c42d6da3",
   "metadata": {},
   "outputs": [
    {
     "name": "stdout",
     "output_type": "stream",
     "text": [
      "      lokasi_penanganan_sampah panjang/luas satuan_panjang/luas\n",
      "312                       Kali           50                   m\n",
      "2065                      Kali           50                   m\n",
      "3818                      Kali           50                   m\n",
      "5571                      Kali           50                   m\n",
      "7324                      Kali           50                   m\n",
      "9077                      Kali           50                   m\n",
      "10830                     Kali           50                   m\n",
      "12583                     Kali           50                   m\n",
      "14336                     Kali           50                   m\n",
      "16089                     Kali           50                   m\n",
      "17842                     Kali           50                   m\n",
      "19595                     Kali           50                   m\n",
      "21348                     Kali           50                   m\n",
      "23101                     Kali           50                   m\n",
      "24854                     Kali           50                   m\n",
      "26607                     Kali           50                   m\n",
      "28360                     Kali           50                   m\n",
      "30113                     Kali           50                   m\n",
      "31866                     Kali           50                   m\n",
      "33619                     Kali           50                   m\n",
      "35372                     Kali           50                   m\n",
      "37125                     Kali           50                   m\n",
      "38878                     Kali           50                   m\n",
      "40631                     Kali           50                   m\n",
      "42384                     Kali           50                   m\n",
      "44137                     Kali           50                   m\n",
      "45890                     Kali           50                   m\n",
      "47643                     Kali           50                   m\n",
      "49396                     Kali           50                   m\n",
      "51149                     Kali           50                   m\n",
      "52902                     Kali           50                   m\n"
     ]
    }
   ],
   "source": [
    "#jika null value memiliki panjang/luas sama dengan 2 digit maka value bisa saja m atau Ha atau m2 tergantung mana yang paling sering muncul\n",
    "#sebenarnya bisa di beri batasan panjang/luas minimal jika lokasi_penanganan_sampah adalah Kali, Sungai, dan PHB adalah 20\n",
    "#tetapi karena null value memiliki lokasi_penanganan_sampah = Kali dengan panjang/luas = 50, jadi tidak perlu membuat batasan\n",
    "# Mengidentifikasi null value yang memiliki panjang/luas sama dengan 2\n",
    "equal_2digit_null = df_null_spl['panjang/luas'].apply(lambda x: len(str(x).split('.')[0]) == 2)\n",
    "def choose_most_frequent_unit(x):\n",
    "    count_m = (x == 'm').sum()\n",
    "    count_ha = (x == 'Ha').sum()\n",
    "    count_m2 = (x == 'm2').sum()\n",
    "\n",
    "    if count_m >= max(count_ha, count_m2):\n",
    "        return 'm'\n",
    "    elif count_ha >= max(count_m, count_m2):\n",
    "        return 'Ha'\n",
    "    else:\n",
    "        return 'm2'\n",
    "\n",
    "df.loc[df_null_spl.index[equal_2digit_null], 'satuan_panjang/luas'] = df_null_spl.groupby('lokasi_penanganan_sampah')['satuan_panjang/luas'].transform(choose_most_frequent_unit)\n",
    "print(df.loc[df_null_spl.index[equal_2digit_null], ['lokasi_penanganan_sampah', 'panjang/luas', 'satuan_panjang/luas']])"
   ]
  },
  {
   "cell_type": "code",
   "execution_count": 119,
   "id": "4dbb73f5-bad3-49d8-8db0-e5b019a73624",
   "metadata": {},
   "outputs": [
    {
     "name": "stdout",
     "output_type": "stream",
     "text": [
      "                                            titik_lokasi panjang/luas  \\\n",
      "1218                               Waduk Timur Setiabudi            1   \n",
      "1220                               Waduk Barat Setiabudi            1   \n",
      "2470   Kali Pesanggrahan ( Jln. Pos Pengumben Raya - ...         1.82   \n",
      "2471   Kali Pesanggrahan (Jln. H. Kelik Hutan Kota Sr...          1.2   \n",
      "2472   Kali Pesanggrahan ( Komplek Villa Arteri Kebon...         1.35   \n",
      "...                                                  ...          ...   \n",
      "53325        PHB. Adhikarya Jln.Adhikarya Kedoya Selatan        1.102   \n",
      "53326                             Saluran PHB. Mangga 17            1   \n",
      "53327                             Saluran PHB. Mangga 18          1.2   \n",
      "53808                              Waduk Timur Setiabudi            1   \n",
      "53810                              Waduk Barat Setiabudi            1   \n",
      "\n",
      "      satuan_panjang/luas  \n",
      "1218                   Ha  \n",
      "1220                   Ha  \n",
      "2470                   Ha  \n",
      "2471                   Ha  \n",
      "2472                   Ha  \n",
      "...                   ...  \n",
      "53325                  Ha  \n",
      "53326                  Ha  \n",
      "53327                  Ha  \n",
      "53808                  Ha  \n",
      "53810                  Ha  \n",
      "\n",
      "[602 rows x 3 columns]\n"
     ]
    }
   ],
   "source": [
    "#jika null value memiliki panjang/luas kurang dari 2 digit maka null value dapat diisi dengan Ha, m2, km atau m3\n",
    "less_than_2digit_null = df_null_spl['panjang/luas'].apply(lambda x: len(str(x).split('.')[0]) < 2)\n",
    "\n",
    "def choose_most_frequent_unit(x):\n",
    "    count_ha = (x == 'Ha').sum()\n",
    "    count_m2 = (x == 'm2').sum()\n",
    "    count_km = (x == 'km').sum()\n",
    "    count_m3 = (x == 'm3').sum()\n",
    "        \n",
    "    if count_ha >= max(count_m2, count_km, count_m3):\n",
    "        return 'Ha'\n",
    "    elif count_m2 >= max(count_ha, count_km, count_m3):\n",
    "        return 'm2'\n",
    "    elif count_km >= max(count_ha, count_m2, count_m3):\n",
    "        return 'km'\n",
    "    else:\n",
    "        return 'm3'\n",
    "\n",
    "df.loc[df_null_spl.index[less_than_2digit_null], 'satuan_panjang/luas'] = df_null_spl.groupby('lokasi_penanganan_sampah')['satuan_panjang/luas'].transform(choose_most_frequent_unit)\n",
    "print(df.loc[df_null_spl.index[less_than_2digit_null], ['titik_lokasi', 'panjang/luas', 'satuan_panjang/luas']])"
   ]
  },
  {
   "cell_type": "markdown",
   "id": "3c8826bc-75f2-453f-9a7e-ee2c7d86fc01",
   "metadata": {},
   "source": [
    "#### Re-check the Result"
   ]
  },
  {
   "cell_type": "code",
   "execution_count": 121,
   "id": "59f98d27-43b4-4767-a116-5d24685a7fa3",
   "metadata": {},
   "outputs": [
    {
     "name": "stdout",
     "output_type": "stream",
     "text": [
      "Aliran : m = 155\n",
      "Anak : m = 31\n",
      "BKB : m = 31\n",
      "Banjir : km = 31\n",
      "Banjir : m = 124\n",
      "Ciliwung : m = 372\n",
      "Danau : Ha = 93\n",
      "Danau : m = 155\n",
      "Emplacement : m = 62\n",
      "Emplacement : m3 = 31\n",
      "HB : m = 31\n",
      "Inlet : m = 62\n",
      "Jln. : m = 31\n",
      "Kali : Ha = 426\n",
      "Kali : km = 211\n",
      "Kali : m = 21590\n",
      "Kalimalang : m = 155\n",
      "Kalisari : m = 310\n",
      "Kapuk : Ha = 31\n",
      "PHB : Ha = 154\n",
      "PHB : m = 22073\n",
      "Perbatasan : m = 31\n",
      "Pompa : Ha = 31\n",
      "Pompa : m = 62\n",
      "Rawa : Ha = 62\n",
      "Rumah : m = 31\n",
      "Saluran : Ha = 180\n",
      "Saluran : km = 120\n",
      "Saluran : m = 4443\n",
      "Saringan : m = 961\n",
      "Sekatan : m = 62\n",
      "Sentiong : m = 31\n",
      "Setu : Ha = 62\n",
      "Setu : m = 62\n",
      "Situ : Ha = 31\n",
      "Situ : m2 = 31\n",
      "Sodetan : m = 62\n",
      "Stasiun : Ha = 90\n",
      "Stasiun : m = 65\n",
      "Sungai : m = 62\n",
      "Sunter. : m = 31\n",
      "Titik : m = 31\n",
      "Waduk : Ha = 992\n",
      "Waduk : m = 403\n",
      "saluran : m = 248\n"
     ]
    }
   ],
   "source": [
    "#mengecek perubahan jumlah pengunaan satuan berdasarkan lokasi_penanganan_sampah\n",
    "counts = df.groupby(['lokasi_penanganan_sampah', 'satuan_panjang/luas']).size().reset_index(name='count')\n",
    "for index, row in counts.iterrows():\n",
    "    print(f\"{row['lokasi_penanganan_sampah']} : {row['satuan_panjang/luas']} = {row['count']}\")"
   ]
  },
  {
   "cell_type": "code",
   "execution_count": 122,
   "id": "e4798c38-1442-4a33-a120-96d11e82e6ab",
   "metadata": {},
   "outputs": [
    {
     "data": {
      "text/html": [
       "<div>\n",
       "<style scoped>\n",
       "    .dataframe tbody tr th:only-of-type {\n",
       "        vertical-align: middle;\n",
       "    }\n",
       "\n",
       "    .dataframe tbody tr th {\n",
       "        vertical-align: top;\n",
       "    }\n",
       "\n",
       "    .dataframe thead th {\n",
       "        text-align: right;\n",
       "    }\n",
       "</style>\n",
       "<table border=\"1\" class=\"dataframe\">\n",
       "  <thead>\n",
       "    <tr style=\"text-align: right;\">\n",
       "      <th></th>\n",
       "      <th>titik_lokasi</th>\n",
       "      <th>kecamatan</th>\n",
       "      <th>panjang/luas</th>\n",
       "      <th>satuan_panjang/luas</th>\n",
       "      <th>lokasi_penanganan_sampah</th>\n",
       "    </tr>\n",
       "  </thead>\n",
       "  <tbody>\n",
       "    <tr>\n",
       "      <th>1163</th>\n",
       "      <td>Danau Poncol BPP Pertanian - Kelurahan Ragunan</td>\n",
       "      <td>Pasar Minggu</td>\n",
       "      <td>1000</td>\n",
       "      <td>m</td>\n",
       "      <td>Danau</td>\n",
       "    </tr>\n",
       "    <tr>\n",
       "      <th>1168</th>\n",
       "      <td>Danau Taman Makam Pahlawan Kalibata</td>\n",
       "      <td>Pancoran</td>\n",
       "      <td>500</td>\n",
       "      <td>m</td>\n",
       "      <td>Danau</td>\n",
       "    </tr>\n",
       "    <tr>\n",
       "      <th>1332</th>\n",
       "      <td>Danau Emen</td>\n",
       "      <td>Kebayoran Lama</td>\n",
       "      <td>500</td>\n",
       "      <td>m</td>\n",
       "      <td>Danau</td>\n",
       "    </tr>\n",
       "    <tr>\n",
       "      <th>1333</th>\n",
       "      <td>Danau PU</td>\n",
       "      <td>Kebayoran Lama</td>\n",
       "      <td>700</td>\n",
       "      <td>m</td>\n",
       "      <td>Danau</td>\n",
       "    </tr>\n",
       "    <tr>\n",
       "      <th>1365</th>\n",
       "      <td>Danau Kapalio</td>\n",
       "      <td>Pesanggrahan</td>\n",
       "      <td>1000</td>\n",
       "      <td>m</td>\n",
       "      <td>Danau</td>\n",
       "    </tr>\n",
       "  </tbody>\n",
       "</table>\n",
       "</div>"
      ],
      "text/plain": [
       "                                        titik_lokasi       kecamatan  \\\n",
       "1163  Danau Poncol BPP Pertanian - Kelurahan Ragunan    Pasar Minggu   \n",
       "1168             Danau Taman Makam Pahlawan Kalibata        Pancoran   \n",
       "1332                                      Danau Emen  Kebayoran Lama   \n",
       "1333                                        Danau PU  Kebayoran Lama   \n",
       "1365                                   Danau Kapalio    Pesanggrahan   \n",
       "\n",
       "     panjang/luas satuan_panjang/luas lokasi_penanganan_sampah  \n",
       "1163         1000                   m                    Danau  \n",
       "1168          500                   m                    Danau  \n",
       "1332          500                   m                    Danau  \n",
       "1333          700                   m                    Danau  \n",
       "1365         1000                   m                    Danau  "
      ]
     },
     "execution_count": 122,
     "metadata": {},
     "output_type": "execute_result"
    }
   ],
   "source": [
    "#mengecek kesdesuaian data\n",
    "danau_m = df[(df['satuan_panjang/luas'] == 'm') & (df['lokasi_penanganan_sampah'] == 'Danau')][['titik_lokasi', 'kecamatan', 'panjang/luas', 'satuan_panjang/luas', 'lokasi_penanganan_sampah']].drop_duplicates()\n",
    "danau_m.head()"
   ]
  },
  {
   "cell_type": "code",
   "execution_count": 123,
   "id": "33f84c02-ddf2-4840-89ef-fa031858a00e",
   "metadata": {},
   "outputs": [
    {
     "data": {
      "image/png": "[encoded data removed]",
      "text/plain": [
       "<Figure size 1200x600 with 1 Axes>"
      ]
     },
     "metadata": {},
     "output_type": "display_data"
    }
   ],
   "source": [
    "#persebaran \n",
    "plt.figure(figsize=(12, 6))\n",
    "sns.histplot(data=df, x='lokasi_penanganan_sampah', hue='satuan_panjang/luas', multiple='stack')\n",
    "plt.xticks(rotation=90)\n",
    "plt.title('Distribusi Lokasi Penanganan Sampah Berdasarkan Satuan Panjang/Luas')\n",
    "plt.ylabel('Count')\n",
    "plt.show()"
   ]
  },
  {
   "cell_type": "code",
   "execution_count": 124,
   "id": "ab492af1-c822-4a8b-9c64-e66b9539c4ec",
   "metadata": {},
   "outputs": [
    {
     "name": "stdout",
     "output_type": "stream",
     "text": [
      "<class 'pandas.core.frame.DataFrame'>\n",
      "RangeIndex: 54343 entries, 0 to 54342\n",
      "Data columns (total 9 columns):\n",
      " #   Column                     Non-Null Count  Dtype \n",
      "---  ------                     --------------  ----- \n",
      " 0   bulan                      54343 non-null  int64 \n",
      " 1   titik_lokasi               54343 non-null  object\n",
      " 2   kecamatan                  54343 non-null  object\n",
      " 3   wilayah                    54343 non-null  object\n",
      " 4   panjang/luas               54343 non-null  object\n",
      " 5   satuan_panjang/luas        54343 non-null  object\n",
      " 6   tanggal                    54343 non-null  int64 \n",
      " 7   volume_sampah_perhari(m3)  54343 non-null  object\n",
      " 8   lokasi_penanganan_sampah   54343 non-null  object\n",
      "dtypes: int64(2), object(7)\n",
      "memory usage: 3.7+ MB\n"
     ]
    }
   ],
   "source": [
    "df.info()"
   ]
  },
  {
   "cell_type": "markdown",
   "id": "eda724c7-f9c5-4c16-8630-ea80faa505a2",
   "metadata": {},
   "source": [
    "#### Convert Data Type"
   ]
  },
  {
   "cell_type": "code",
   "execution_count": 126,
   "id": "eb9eaa0a-e62b-4e29-ac8b-b4db7ff327af",
   "metadata": {},
   "outputs": [],
   "source": [
    "#mengonversi data type panjang/luas dari object ke numeric berupa float\n",
    "df['panjang/luas'] = pd.to_numeric(df['panjang/luas'], errors='coerce')"
   ]
  },
  {
   "cell_type": "code",
   "execution_count": 127,
   "id": "5780506c-0196-40f5-a08e-656f0aa92da3",
   "metadata": {},
   "outputs": [],
   "source": [
    "#mengonversi data type volume_sampah_perhari(m3) dari object ke numeric berupa float, dan membuat NaN pada kolom untuk di prediksi\n",
    "df['volume_sampah_perhari(m3)'] = pd.to_numeric(df['volume_sampah_perhari(m3)'], errors='coerce')"
   ]
  },
  {
   "cell_type": "code",
   "execution_count": 128,
   "id": "5204facd-9b1f-4bd0-8f21-9d1b9602eccf",
   "metadata": {},
   "outputs": [
    {
     "name": "stdout",
     "output_type": "stream",
     "text": [
      "bulan                         0.000000\n",
      "titik_lokasi                  0.000000\n",
      "kecamatan                     0.000000\n",
      "wilayah                       0.000000\n",
      "panjang/luas                  0.000000\n",
      "satuan_panjang/luas           0.000000\n",
      "tanggal                       0.000000\n",
      "volume_sampah_perhari(m3)    32.574573\n",
      "lokasi_penanganan_sampah      0.000000\n",
      "dtype: float64\n"
     ]
    }
   ],
   "source": [
    "#melakukan pengecekan persentase missing value setelah mengubah data type\n",
    "missing_percentage = df.isnull().mean() * 100\n",
    "print(missing_percentage)"
   ]
  },
  {
   "cell_type": "markdown",
   "id": "27b7253a-094f-423c-95c7-40bbfed521ae",
   "metadata": {},
   "source": [
    "#### volume_sampah_perhari(m3) Missing Value Treatments Using KNN"
   ]
  },
  {
   "cell_type": "code",
   "execution_count": 130,
   "id": "45045914-0e03-48fa-991b-623fceed248d",
   "metadata": {},
   "outputs": [],
   "source": [
    "from sklearn.impute import KNNImputer\n",
    "impute = KNNImputer()"
   ]
  },
  {
   "cell_type": "code",
   "execution_count": 131,
   "id": "314bd743-3181-4821-8337-e734b2af2e1b",
   "metadata": {},
   "outputs": [],
   "source": [
    "#menggunakan KNN untuk mengisi null dengan tipe data numeric, dengan melihat pola pada data\n",
    "for i in df.select_dtypes(include=\"number\").columns:\n",
    "    df[i] = impute.fit_transform(df[[i]])"
   ]
  },
  {
   "cell_type": "code",
   "execution_count": 132,
   "id": "002f3370-e96b-496c-acc0-695b743b3fc1",
   "metadata": {},
   "outputs": [
    {
     "name": "stdout",
     "output_type": "stream",
     "text": [
      "<class 'pandas.core.frame.DataFrame'>\n",
      "RangeIndex: 54343 entries, 0 to 54342\n",
      "Data columns (total 9 columns):\n",
      " #   Column                     Non-Null Count  Dtype  \n",
      "---  ------                     --------------  -----  \n",
      " 0   bulan                      54343 non-null  float64\n",
      " 1   titik_lokasi               54343 non-null  object \n",
      " 2   kecamatan                  54343 non-null  object \n",
      " 3   wilayah                    54343 non-null  object \n",
      " 4   panjang/luas               54343 non-null  float64\n",
      " 5   satuan_panjang/luas        54343 non-null  object \n",
      " 6   tanggal                    54343 non-null  float64\n",
      " 7   volume_sampah_perhari(m3)  54343 non-null  float64\n",
      " 8   lokasi_penanganan_sampah   54343 non-null  object \n",
      "dtypes: float64(4), object(5)\n",
      "memory usage: 3.7+ MB\n"
     ]
    }
   ],
   "source": [
    "df.info()"
   ]
  },
  {
   "cell_type": "code",
   "execution_count": 133,
   "id": "11b501e2-918c-4172-912a-5f914a582138",
   "metadata": {},
   "outputs": [],
   "source": [
    "df.to_csv('105222022_Preprocessing.csv', index=False)"
   ]
  },
  {
   "cell_type": "code",
   "execution_count": null,
   "id": "2087be37-3f9d-4e81-9d22-074eaaedd593",
   "metadata": {},
   "outputs": [],
   "source": []
  }
 ],
 "metadata": {
  "kernelspec": {
   "display_name": "Python 3 (ipykernel)",
   "language": "python",
   "name": "python3"
  },
  "language_info": {
   "codemirror_mode": {
    "name": "ipython",
    "version": 3
   },
   "file_extension": ".py",
   "mimetype": "text/x-python",
   "name": "python",
   "nbconvert_exporter": "python",
   "pygments_lexer": "ipython3",
   "version": "3.12.4"
  }
 },
 "nbformat": 4,
 "nbformat_minor": 5
}
